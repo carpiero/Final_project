{
 "cells": [
  {
   "cell_type": "code",
   "execution_count": 5,
   "metadata": {},
   "outputs": [],
   "source": [
    "import pandas as pd\n",
    "import matplotlib.pyplot as plt\n",
    "import seaborn as sns\n",
    "import numpy as np\n",
    "import plotly.express as px\n",
    "plt.style.use('seaborn')\n",
    "%matplotlib inline\n",
    "\n",
    "pd.set_option('display.max_rows', 0)\n",
    "pd.set_option('display.max_columns', 0)\n",
    "\n",
    "\n",
    "\n",
    "df_indicadores = pd.read_parquet(f'../data/processed/df_indicadores.parquet')\n",
    "\n",
    "df_final_pob = pd.read_parquet('../data/processed/df_final_pob.parquet')"
   ]
  },
  {
   "cell_type": "code",
   "execution_count": null,
   "metadata": {},
   "outputs": [],
   "source": []
  },
  {
   "cell_type": "code",
   "execution_count": 10,
   "metadata": {},
   "outputs": [
    {
     "data": {
      "text/plain": [
       "{0: 'Almería',\n",
       " 1: 'Cádiz',\n",
       " 2: 'Córdoba',\n",
       " 3: 'Granada',\n",
       " 4: 'Huelva',\n",
       " 5: 'Jaén',\n",
       " 6: 'Málaga',\n",
       " 7: 'Sevilla',\n",
       " 8: 'Huesca',\n",
       " 9: 'Teruel',\n",
       " 10: 'Zaragoza',\n",
       " 11: 'Asturias',\n",
       " 12: 'Illes Balears',\n",
       " 13: 'Palmas, Las',\n",
       " 14: 'Santa Cruz de Tenerife',\n",
       " 15: 'Cantabria',\n",
       " 16: 'Avila',\n",
       " 17: 'Burgos',\n",
       " 18: 'León',\n",
       " 19: 'Palencia',\n",
       " 20: 'Salamanca',\n",
       " 21: 'Segovia',\n",
       " 22: 'Soria',\n",
       " 23: 'Valladolid',\n",
       " 24: 'Zamora',\n",
       " 25: 'Albacete',\n",
       " 26: 'Ciudad Real',\n",
       " 27: 'Cuenca',\n",
       " 28: 'Guadalajara',\n",
       " 29: 'Toledo',\n",
       " 30: 'Barcelona',\n",
       " 31: 'Girona',\n",
       " 32: 'Lleida',\n",
       " 33: 'Tarragona',\n",
       " 34: 'Badajoz',\n",
       " 35: 'Cáceres',\n",
       " 36: 'Coruña, A',\n",
       " 37: 'Lugo',\n",
       " 38: 'Ourense',\n",
       " 39: 'Pontevedra',\n",
       " 40: 'Madrid',\n",
       " 41: 'Murcia',\n",
       " 42: 'Rioja, La',\n",
       " 43: 'Alicante / Alacant',\n",
       " 44: 'Castellón / Castelló',\n",
       " 45: 'Valencia / València'}"
      ]
     },
     "execution_count": 10,
     "metadata": {},
     "output_type": "execute_result"
    }
   ],
   "source": [
    "prov=df_final_pob['Provincia'].unique().to_list()\n",
    "\n",
    "dict(zip(range(len(prov)), prov))"
   ]
  },
  {
   "cell_type": "code",
   "execution_count": 2,
   "metadata": {},
   "outputs": [
    {
     "data": {
      "text/plain": [
       "{'BR': 'Brine',\n",
       " 'Confidential': 'Confidential',\n",
       " 'DH': 'Dry Hole',\n",
       " 'DS': 'Disposal',\n",
       " 'DW': 'Dry Wildcat',\n",
       " 'GD': 'Gas Development',\n",
       " 'GE': 'Gas Extension',\n",
       " 'GW': 'Gas Wildcat',\n",
       " 'IG': 'Gas Injection',\n",
       " 'IW': 'Oil Injection',\n",
       " 'LP': 'Liquefied Petroleum Gas Storage',\n",
       " 'MB': 'Monitoring Brine',\n",
       " 'MM': 'Monitoring Miscellaneous',\n",
       " 'MS': 'Monitoring Storage',\n",
       " 'NL': 'Not Listed',\n",
       " 'OB': 'Observation Well',\n",
       " 'OD': 'Oil Development',\n",
       " 'OE': 'Oil Extension',\n",
       " 'OW': 'Oil Wildcat',\n",
       " 'SG': 'Stratigraphic',\n",
       " 'ST': 'Storage',\n",
       " 'TH': 'Geothermal',\n",
       " 'UN': 'Unknown'}"
      ]
     },
     "execution_count": 2,
     "metadata": {},
     "output_type": "execute_result"
    }
   ],
   "source": []
  },
  {
   "cell_type": "code",
   "execution_count": null,
   "metadata": {},
   "outputs": [],
   "source": []
  }
 ],
 "metadata": {
  "kernelspec": {
   "display_name": "Python [conda env:ml_env]",
   "language": "python",
   "name": "conda-env-ml_env-py"
  },
  "language_info": {
   "codemirror_mode": {
    "name": "ipython",
    "version": 3
   },
   "file_extension": ".py",
   "mimetype": "text/x-python",
   "name": "python",
   "nbconvert_exporter": "python",
   "pygments_lexer": "ipython3",
   "version": "3.7.7"
  }
 },
 "nbformat": 4,
 "nbformat_minor": 4
}
