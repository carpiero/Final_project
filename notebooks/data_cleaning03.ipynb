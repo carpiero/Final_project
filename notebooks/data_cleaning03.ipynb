{
 "cells": [
  {
   "cell_type": "code",
   "execution_count": 1,
   "metadata": {},
   "outputs": [],
   "source": [
    "import pandas as pd\n",
    "\n",
    "df_final=pd.read_parquet(f'../data/processed/df_final.parquet')"
   ]
  },
  {
   "cell_type": "code",
   "execution_count": 19,
   "metadata": {},
   "outputs": [
    {
     "name": "stdout",
     "output_type": "stream",
     "text": [
      "{'BE': 'Belgium', 'EL': 'Greece', 'LT': 'Lithuania', 'PT': 'Portugal', 'BG': 'Bulgaria', 'ES': 'Spain', 'LU': 'Luxembourg', 'RO': 'Romania', 'CZ': 'Czechia', 'FR': 'France', 'HU': 'Hungary', 'SI': 'Slovenia', 'DK': 'Denmark', 'HR': 'Croatia', 'MT': 'Malta', 'SK': 'Slovakia', 'DE': 'Germany', 'IT': 'Italy', 'NL': 'Netherlands', 'FI': 'Finland', 'EE': 'Estonia', 'CY': 'Cyprus', 'AT': 'Austria', 'SE': 'Sweden', 'IE': 'Ireland', 'LV': 'Latvia', 'PL': 'Poland', 'UK': 'UnitedKingdom', 'IS': 'Iceland', 'NO': 'Norway', 'LI': 'Liechtenstein', 'CH': 'Switzerland', 'ME': 'Montenegro', 'MK': 'NorthMacedonia', 'AL': 'Albania', 'RS': 'Serbia', 'TR': 'Turkey', 'BA': 'BosniaandHerzegovina', 'XK': 'Kosovo', 'AM': 'Armenia', 'BY': 'Belarus', 'GE': 'Georgia', 'AZ': 'Azerbaijan', 'MD': 'Moldova', 'UA': 'Ukraine', 'DZ': 'Algeria', 'LB': 'Lebanon', 'SY': 'Syria', 'EG': 'Egypt', 'LY': 'Libya', 'TN': 'Tunisia', 'IL': 'Israel', 'MA': 'Morocco', 'JO': 'Jordan', 'PS': 'Palestine', 'RU': 'Russia', 'AR': 'Argentina', 'CN_X_HK': 'China(exceptHongKong)', 'MX': 'Mexico', 'ZA': 'SouthAfrica', 'AU': 'Australia', 'HK': 'HongKong', 'NG': 'Nigeria', 'KR': 'SouthKorea', 'BR': 'Brazil', 'IN': 'India', 'NZ': 'NewZealand', 'TW': 'Taiwan', 'CA': 'Canada', 'JP': 'Japan', 'SG': 'Singapore', 'US': 'UnitedStates'}\n"
     ]
    }
   ],
   "source": [
    "import requests\n",
    "from bs4 import BeautifulSoup\n",
    "import re\n",
    "url = 'https://ec.europa.eu/eurostat/statistics-explained/index.php/Glossary:Country_codes'\n",
    "html = requests.get(url).content\n",
    "soup = BeautifulSoup(html, 'lxml')\n",
    "table = soup.find_all('div', {'class':'mw-content-ltr'})[0]\n",
    "rows = table.find_all('table')\n",
    "rows_parsed = [row.text for row in rows]\n",
    "\n",
    "\n",
    "rows_clean=[re.sub(r'\\s','',x)for x in rows_parsed]\n",
    "\n",
    "rows_clean=[re.sub(r'\\*','',x)for x in rows_clean]\n",
    "rows_clean=[re.sub(r'\\[\\d\\]','',x)for x in rows_clean]\n",
    "\n",
    "\n",
    "rows_clean=''.join(rows_clean)\n",
    "\n",
    "rows_country=re.split(r'\\(\\w{0,7}\\)',rows_clean)\n",
    "rows_code=re.findall(r'\\(\\w{0,7}\\)',rows_clean)\n",
    "rows_code=[re.sub(r'\\(|\\)','',x)for x in rows_code]\n",
    "\n",
    "\n",
    "dict_country=dict(zip(rows_code,rows_country))\n",
    "\n",
    "print(dict_country)"
   ]
  },
  {
   "cell_type": "code",
   "execution_count": 70,
   "metadata": {},
   "outputs": [
    {
     "data": {
      "text/plain": [
       "DE    1420\n",
       "FR    1248\n",
       "UK    1199\n",
       "IT    1138\n",
       "ES    1005\n",
       "PL     860\n",
       "RO     332\n",
       "NL     331\n",
       "EL     225\n",
       "HU     206\n",
       "PT     202\n",
       "CZ     189\n",
       "BE     179\n",
       "SE     175\n",
       "BG     141\n",
       "AT     133\n",
       "DK     119\n",
       "FI     113\n",
       "SK      93\n",
       "IE      90\n",
       "HR      87\n",
       "LT      50\n",
       "LV      36\n",
       "SI      28\n",
       "EE      18\n",
       "CY      13\n",
       "LU      11\n",
       "MT       8\n",
       "Name: country_code, dtype: int64"
      ]
     },
     "execution_count": 70,
     "metadata": {},
     "output_type": "execute_result"
    }
   ],
   "source": [
    "df_final['country_code'].value_counts()"
   ]
  },
  {
   "cell_type": "code",
   "execution_count": 71,
   "metadata": {},
   "outputs": [],
   "source": [
    "#GR, GB no estan"
   ]
  },
  {
   "cell_type": "code",
   "execution_count": 72,
   "metadata": {},
   "outputs": [
    {
     "data": {
      "text/plain": [
       "uuid                   9649\n",
       "age                      52\n",
       "gender                    2\n",
       "dem_has_children          2\n",
       "age_group                 3\n",
       "country_code             28\n",
       "rural                     2\n",
       "dem_education_level       4\n",
       "dem_full_time_job         2\n",
       "normalized_job_code     156\n",
       "awareness                 4\n",
       "vote                      5\n",
       "effect                    9\n",
       "argumentsfor            674\n",
       "argumentsagainst        881\n",
       "Country                  28\n",
       "dtype: int64"
      ]
     },
     "execution_count": 72,
     "metadata": {},
     "output_type": "execute_result"
    }
   ],
   "source": [
    "df_final['Country']= ''\n",
    "\n",
    "for k,v in dict_country.items():\n",
    "    df_final.loc[df_final['country_code']==k,'Country']=v\n",
    "    \n",
    "df_final.nunique()\n",
    "\n",
    "\n"
   ]
  },
  {
   "cell_type": "code",
   "execution_count": 73,
   "metadata": {},
   "outputs": [
    {
     "data": {
      "text/plain": [
       "array(['Austria', 'Belgium', 'Bulgaria', 'Cyprus', 'Czechia', 'Germany',\n",
       "       'Denmark', 'Estonia', 'Spain', 'Finland', 'France',\n",
       "       'UnitedKingdom', 'Greece', 'Croatia', 'Hungary', 'Ireland',\n",
       "       'Italy', 'Lithuania', 'Luxembourg', 'Latvia', 'Malta',\n",
       "       'Netherlands', 'Poland', 'Portugal', 'Romania', 'Sweden',\n",
       "       'Slovenia', 'Slovakia'], dtype=object)"
      ]
     },
     "execution_count": 73,
     "metadata": {},
     "output_type": "execute_result"
    }
   ],
   "source": [
    "df_final['Country'].unique()"
   ]
  },
  {
   "cell_type": "code",
   "execution_count": 74,
   "metadata": {},
   "outputs": [
    {
     "data": {
      "text/plain": [
       "Germany          1420\n",
       "France           1248\n",
       "UnitedKingdom    1199\n",
       "Italy            1138\n",
       "Spain            1005\n",
       "Poland            860\n",
       "Romania           332\n",
       "Netherlands       331\n",
       "Greece            225\n",
       "Hungary           206\n",
       "Portugal          202\n",
       "Czechia           189\n",
       "Belgium           179\n",
       "Sweden            175\n",
       "Bulgaria          141\n",
       "Austria           133\n",
       "Denmark           119\n",
       "Finland           113\n",
       "Slovakia           93\n",
       "Ireland            90\n",
       "Croatia            87\n",
       "Lithuania          50\n",
       "Latvia             36\n",
       "Slovenia           28\n",
       "Estonia            18\n",
       "Cyprus             13\n",
       "Luxembourg         11\n",
       "Malta               8\n",
       "Name: Country, dtype: int64"
      ]
     },
     "execution_count": 74,
     "metadata": {},
     "output_type": "execute_result"
    }
   ],
   "source": [
    "df_final['Country'].value_counts()"
   ]
  },
  {
   "cell_type": "code",
   "execution_count": 75,
   "metadata": {},
   "outputs": [
    {
     "data": {
      "text/plain": [
       "1424"
      ]
     },
     "execution_count": 75,
     "metadata": {},
     "output_type": "execute_result"
    }
   ],
   "source": [
    "m=df_final['country_code'].value_counts().loc['UK']+df_final['country_code'].value_counts().loc['EL']\n",
    "m"
   ]
  },
  {
   "cell_type": "code",
   "execution_count": 76,
   "metadata": {},
   "outputs": [],
   "source": [
    "df_final.to_parquet('../data/processed/df_final_web.parquet')"
   ]
  },
  {
   "cell_type": "code",
   "execution_count": null,
   "metadata": {},
   "outputs": [],
   "source": []
  }
 ],
 "metadata": {
  "kernelspec": {
   "display_name": "Python [conda env:iron]",
   "language": "python",
   "name": "conda-env-iron-py"
  },
  "language_info": {
   "codemirror_mode": {
    "name": "ipython",
    "version": 3
   },
   "file_extension": ".py",
   "mimetype": "text/x-python",
   "name": "python",
   "nbconvert_exporter": "python",
   "pygments_lexer": "ipython3",
   "version": "3.7.7"
  }
 },
 "nbformat": 4,
 "nbformat_minor": 4
}
