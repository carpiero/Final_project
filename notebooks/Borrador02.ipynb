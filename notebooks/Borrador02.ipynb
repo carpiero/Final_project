{
 "cells": [
  {
   "cell_type": "code",
   "execution_count": null,
   "metadata": {},
   "outputs": [],
   "source": [
    "todo -p\n",
    "todo sin unemployed -p -u no\n",
    "pais -p -c spain\n",
    "pais sin unemployed -p -c spain -u no\n",
    "\n",
    "\n",
    "\n",
    "1 #que hace vuestra aplicacion\n",
    "\n",
    "    #lo que hace unico a nuestro aplicacion\n",
    "\n",
    "\n",
    "3 mas orgullos\n",
    "\n",
    "4 this is the coolest function\n",
    "\n"
   ]
  }
 ],
 "metadata": {
  "kernelspec": {
   "display_name": "Python [conda env:iron]",
   "language": "python",
   "name": "conda-env-iron-py"
  },
  "language_info": {
   "codemirror_mode": {
    "name": "ipython",
    "version": 3
   },
   "file_extension": ".py",
   "mimetype": "text/x-python",
   "name": "python",
   "nbconvert_exporter": "python",
   "pygments_lexer": "ipython3",
   "version": "3.7.7"
  }
 },
 "nbformat": 4,
 "nbformat_minor": 4
}
