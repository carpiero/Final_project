{
 "cells": [
  {
   "cell_type": "code",
   "execution_count": 1,
   "metadata": {},
   "outputs": [],
   "source": [
    "import pandas as pd\n",
    "\n",
    "df_personal=pd.read_csv(f'../data/results/df_results.csv')"
   ]
  },
  {
   "cell_type": "code",
   "execution_count": 2,
   "metadata": {},
   "outputs": [
    {
     "name": "stdout",
     "output_type": "stream",
     "text": [
      "<class 'pandas.core.frame.DataFrame'>\n",
      "RangeIndex: 8792 entries, 0 to 8791\n",
      "Data columns (total 6 columns):\n",
      " #   Column      Non-Null Count  Dtype \n",
      "---  ------      --------------  ----- \n",
      " 0   Unnamed: 0  8792 non-null   int64 \n",
      " 1   Country     8792 non-null   object\n",
      " 2   Job Title   8792 non-null   object\n",
      " 3   Gender (1)  8792 non-null   object\n",
      " 4   Quantity    8792 non-null   int64 \n",
      " 5   Percentage  8792 non-null   object\n",
      "dtypes: int64(2), object(4)\n",
      "memory usage: 2.5 MB\n",
      "None\n"
     ]
    }
   ],
   "source": [
    "print(df_personal.info(memory_usage='deep'))"
   ]
  },
  {
   "cell_type": "code",
   "execution_count": 3,
   "metadata": {},
   "outputs": [
    {
     "name": "stdout",
     "output_type": "stream",
     "text": [
      "Unnamed: 0    8792\n",
      "Country         28\n",
      "Job Title      157\n",
      "Gender (1)       2\n",
      "Quantity        49\n",
      "Percentage      28\n",
      "dtype: int64\n"
     ]
    }
   ],
   "source": [
    "print(df_personal.nunique())"
   ]
  },
  {
   "cell_type": "code",
   "execution_count": 11,
   "metadata": {},
   "outputs": [
    {
     "name": "stdout",
     "output_type": "stream",
     "text": [
      "UnitedKingdom\n",
      "good\n"
     ]
    }
   ],
   "source": [
    "#for x in df_personal['country_code'].unique():\n",
    "#    print (x)\n",
    "\n",
    "import re\n",
    "h=df_personal['Country'].unique().tolist()\n",
    "\n",
    "country='UnitedKingdom'\n",
    "\n",
    "\n",
    "if not isinstance(country, str):\n",
    "    print('Error, please insert a correct Country')\n",
    "else:\n",
    "    if country not in h:\n",
    "        country= country.lower()\n",
    "        country= country.title()\n",
    "        country = re.sub(r' ','',country)\n",
    "        if country not in h:\n",
    "            print('Error, please insert a correct Country')\n",
    "        \n",
    "        else:\n",
    "            print(country + 'hola')\n",
    "            print('good2')\n",
    "    else:\n",
    "        print(country)\n",
    "        print('good')\n",
    "\n",
    "\n",
    "\n"
   ]
  },
  {
   "cell_type": "code",
   "execution_count": 13,
   "metadata": {},
   "outputs": [
    {
     "data": {
      "text/plain": [
       "numpy.ndarray"
      ]
     },
     "execution_count": 13,
     "metadata": {},
     "output_type": "execute_result"
    }
   ],
   "source": [
    "type(df_personal['Country'].unique())"
   ]
  },
  {
   "cell_type": "code",
   "execution_count": 17,
   "metadata": {},
   "outputs": [
    {
     "data": {
      "text/plain": [
       "Ireland          314\n",
       "Denmark          314\n",
       "UnitedKingdom    314\n",
       "France           314\n",
       "Portugal         314\n",
       "Estonia          314\n",
       "Lithuania        314\n",
       "Hungary          314\n",
       "Czechia          314\n",
       "Italy            314\n",
       "Austria          314\n",
       "Slovakia         314\n",
       "Germany          314\n",
       "Cyprus           314\n",
       "Croatia          314\n",
       "Bulgaria         314\n",
       "Luxembourg       314\n",
       "Belgium          314\n",
       "Poland           314\n",
       "Latvia           314\n",
       "Netherlands      314\n",
       "Romania          314\n",
       "Malta            314\n",
       "Sweden           314\n",
       "Spain            314\n",
       "Finland          314\n",
       "Greece           314\n",
       "Slovenia         314\n",
       "Name: Country, dtype: int64"
      ]
     },
     "execution_count": 17,
     "metadata": {},
     "output_type": "execute_result"
    }
   ],
   "source": [
    "df_personal['Country'].value_counts()"
   ]
  },
  {
   "cell_type": "code",
   "execution_count": null,
   "metadata": {},
   "outputs": [],
   "source": [
    "caso\n",
    "\n",
    "\n",
    "\n",
    "spain\n",
    "Spain\n",
    "nada\n",
    "ssasakslaslk\n",
    "051065153"
   ]
  },
  {
   "cell_type": "code",
   "execution_count": 1,
   "metadata": {},
   "outputs": [
    {
     "data": {
      "text/plain": [
       "0.375"
      ]
     },
     "execution_count": 1,
     "metadata": {},
     "output_type": "execute_result"
    }
   ],
   "source": [
    "3/8"
   ]
  },
  {
   "cell_type": "code",
   "execution_count": 2,
   "metadata": {},
   "outputs": [
    {
     "data": {
      "text/plain": [
       "0.125"
      ]
     },
     "execution_count": 2,
     "metadata": {},
     "output_type": "execute_result"
    }
   ],
   "source": [
    "1/8"
   ]
  },
  {
   "cell_type": "code",
   "execution_count": 3,
   "metadata": {},
   "outputs": [
    {
     "data": {
      "text/plain": [
       "0.2"
      ]
     },
     "execution_count": 3,
     "metadata": {},
     "output_type": "execute_result"
    }
   ],
   "source": [
    "1/5"
   ]
  },
  {
   "cell_type": "code",
   "execution_count": 4,
   "metadata": {},
   "outputs": [
    {
     "data": {
      "text/plain": [
       "0.03571428571428571"
      ]
     },
     "execution_count": 4,
     "metadata": {},
     "output_type": "execute_result"
    }
   ],
   "source": [
    "1/28"
   ]
  },
  {
   "cell_type": "code",
   "execution_count": 5,
   "metadata": {},
   "outputs": [
    {
     "data": {
      "text/plain": [
       "17"
      ]
     },
     "execution_count": 5,
     "metadata": {},
     "output_type": "execute_result"
    }
   ],
   "source": [
    "28-11\n"
   ]
  },
  {
   "cell_type": "code",
   "execution_count": 6,
   "metadata": {},
   "outputs": [
    {
     "data": {
      "text/plain": [
       "0.058823529411764705"
      ]
     },
     "execution_count": 6,
     "metadata": {},
     "output_type": "execute_result"
    }
   ],
   "source": [
    "1/17"
   ]
  },
  {
   "cell_type": "code",
   "execution_count": 7,
   "metadata": {},
   "outputs": [
    {
     "data": {
      "text/plain": [
       "582"
      ]
     },
     "execution_count": 7,
     "metadata": {},
     "output_type": "execute_result"
    }
   ],
   "source": [
    "1005-248-175\n"
   ]
  },
  {
   "cell_type": "code",
   "execution_count": 8,
   "metadata": {},
   "outputs": [
    {
     "data": {
      "text/plain": [
       "0.015463917525773196"
      ]
     },
     "execution_count": 8,
     "metadata": {},
     "output_type": "execute_result"
    }
   ],
   "source": [
    "9/582"
   ]
  },
  {
   "cell_type": "code",
   "execution_count": 9,
   "metadata": {},
   "outputs": [
    {
     "data": {
      "text/plain": [
       "0.013745704467353952"
      ]
     },
     "execution_count": 9,
     "metadata": {},
     "output_type": "execute_result"
    }
   ],
   "source": [
    "8/582"
   ]
  },
  {
   "cell_type": "code",
   "execution_count": 10,
   "metadata": {},
   "outputs": [
    {
     "data": {
      "text/plain": [
       "0.001718213058419244"
      ]
     },
     "execution_count": 10,
     "metadata": {},
     "output_type": "execute_result"
    }
   ],
   "source": [
    "1/582"
   ]
  },
  {
   "cell_type": "code",
   "execution_count": 11,
   "metadata": {},
   "outputs": [
    {
     "data": {
      "text/plain": [
       "536"
      ]
     },
     "execution_count": 11,
     "metadata": {},
     "output_type": "execute_result"
    }
   ],
   "source": [
    "860-173-151\n"
   ]
  },
  {
   "cell_type": "code",
   "execution_count": 12,
   "metadata": {},
   "outputs": [
    {
     "data": {
      "text/plain": [
       "1.8656716417910446"
      ]
     },
     "execution_count": 12,
     "metadata": {},
     "output_type": "execute_result"
    }
   ],
   "source": [
    "10/536*100"
   ]
  },
  {
   "cell_type": "code",
   "execution_count": 13,
   "metadata": {},
   "outputs": [
    {
     "data": {
      "text/plain": [
       "1.6791044776119404"
      ]
     },
     "execution_count": 13,
     "metadata": {},
     "output_type": "execute_result"
    }
   ],
   "source": [
    "9/536*100"
   ]
  },
  {
   "cell_type": "code",
   "execution_count": 14,
   "metadata": {},
   "outputs": [
    {
     "data": {
      "text/plain": [
       "1.4925373134328357"
      ]
     },
     "execution_count": 14,
     "metadata": {},
     "output_type": "execute_result"
    }
   ],
   "source": [
    "8/536*100"
   ]
  },
  {
   "cell_type": "code",
   "execution_count": 15,
   "metadata": {},
   "outputs": [
    {
     "data": {
      "text/plain": [
       "0.18656716417910446"
      ]
     },
     "execution_count": 15,
     "metadata": {},
     "output_type": "execute_result"
    }
   ],
   "source": [
    "1/536*100"
   ]
  },
  {
   "cell_type": "code",
   "execution_count": null,
   "metadata": {},
   "outputs": [],
   "source": [
    "#que hace vuestra aplicacion\n",
    "\n",
    "#lo que hace unico a nuestro aplicacion\n",
    "\n",
    "\n",
    "problemas tecnicos\n",
    "\n",
    "stack\n",
    "programas librerias exolicar las librerias raraas\n",
    "\n",
    "mas orgullos\n",
    "\n",
    "this is the coolest function"
   ]
  },
  {
   "cell_type": "code",
   "execution_count": 45,
   "metadata": {},
   "outputs": [],
   "source": [
    "country_list=['a','b','c',]"
   ]
  },
  {
   "cell_type": "code",
   "execution_count": 46,
   "metadata": {},
   "outputs": [],
   "source": [
    "if len(country_list)%4==0:\n",
    "    for i in range(0,len(country_list)-1,4):\n",
    "        print(f'{country_list[i]:<15}{country_list[i + 1]:<15}{country_list[i + 2]:<15}{country_list[i + 3]:<15}')\n",
    "    \n",
    "elif len(country_list)%4==1:\n",
    "    for i in range(0,len(country_list)-1,4):\n",
    "        print(f'{country_list[i]:<15}{country_list[i + 1]:<15}{country_list[i + 2]:<15}{country_list[i + 3]:<15}')\n",
    "        print(country_list[-1])\n",
    "    \n",
    "elif len(country_list)%4==2: \n",
    "    for i in range(0,len(country_list)-2,4):\n",
    "        print(f'{country_list[i]:<15}{country_list[i + 1]:<15}{country_list[i + 2]:<15}{country_list[i + 3]:<15}')\n",
    "        print(f'{country_list[-2]:<15}{country_list[-1]:<15}')\n",
    "\n",
    "else:\n",
    "    for i in range(0,len(country_list)-3,4):\n",
    "        print(f'{country_list[i]:<15}{country_list[i + 1]:<15}{country_list[i + 2]:<15}{country_list[i + 3]:<15}')\n",
    "        print(f'{country_list[-3]:<15}{country_list[-2]:<15}{country_list[-1]:<15}')\n",
    "\n",
    "\n",
    "        \n",
    "\n",
    "        \n",
    "        \n",
    "        \n",
    "        \n",
    "        \n",
    "        \n",
    "        \n",
    "        \n",
    "        \n",
    "        "
   ]
  },
  {
   "cell_type": "code",
   "execution_count": null,
   "metadata": {},
   "outputs": [],
   "source": [
    "\n"
   ]
  },
  {
   "cell_type": "code",
   "execution_count": null,
   "metadata": {},
   "outputs": [],
   "source": []
  }
 ],
 "metadata": {
  "kernelspec": {
   "display_name": "Python [conda env:iron]",
   "language": "python",
   "name": "conda-env-iron-py"
  },
  "language_info": {
   "codemirror_mode": {
    "name": "ipython",
    "version": 3
   },
   "file_extension": ".py",
   "mimetype": "text/x-python",
   "name": "python",
   "nbconvert_exporter": "python",
   "pygments_lexer": "ipython3",
   "version": "3.7.7"
  }
 },
 "nbformat": 4,
 "nbformat_minor": 4
}
