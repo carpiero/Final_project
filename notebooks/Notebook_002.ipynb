{
 "cells": [
  {
   "cell_type": "code",
   "execution_count": 4,
   "metadata": {},
   "outputs": [],
   "source": [
    "import pandas as pd\n",
    "import numpy as np\n",
    "\n",
    "df_total_coste = pd.read_parquet(f'../data/raw/df_total_coste.parquet')\n",
    "df_total_indicadores = pd.read_parquet(f'../data/raw/df_total_indicadores.parquet')\n",
    "\n",
    "\n",
    "df_coste = pd.read_parquet(f'../data/processed/df_coste.parquet')\n",
    "df_indicadores = pd.read_parquet(f'../data/processed/df_indicadores.parquet')"
   ]
  },
  {
   "cell_type": "code",
   "execution_count": 5,
   "metadata": {},
   "outputs": [
    {
     "name": "stdout",
     "output_type": "stream",
     "text": [
      "<class 'pandas.core.frame.DataFrame'>\n",
      "Int64Index: 336690 entries, 0 to 17939\n",
      "Data columns (total 6 columns):\n",
      " #   Column                 Non-Null Count   Dtype   \n",
      "---  ------                 --------------   -----   \n",
      " 0   Provincia              336690 non-null  category\n",
      " 1   Código Ente Principal  336690 non-null  category\n",
      " 2   Tipo Ente Principal    336690 non-null  category\n",
      " 3   Nombre Ente Principal  336690 non-null  category\n",
      " 4   Descripción            336690 non-null  category\n",
      " 5   coste_efectivo         336690 non-null  float64 \n",
      "dtypes: category(5), float64(1)\n",
      "memory usage: 8.5 MB\n"
     ]
    }
   ],
   "source": [
    "df_coste.info(memory_usage='deep')"
   ]
  },
  {
   "cell_type": "code",
   "execution_count": 6,
   "metadata": {},
   "outputs": [
    {
     "data": {
      "text/plain": [
       "Provincia                   46\n",
       "Código Ente Principal     5570\n",
       "Tipo Ente Principal          7\n",
       "Nombre Ente Principal     5554\n",
       "Descripción                 43\n",
       "coste_efectivo           70818\n",
       "dtype: int64"
      ]
     },
     "execution_count": 6,
     "metadata": {},
     "output_type": "execute_result"
    }
   ],
   "source": [
    "df_coste.nunique()"
   ]
  },
  {
   "cell_type": "code",
   "execution_count": 7,
   "metadata": {},
   "outputs": [
    {
     "name": "stdout",
     "output_type": "stream",
     "text": [
      "<class 'pandas.core.frame.DataFrame'>\n",
      "Int64Index: 582717 entries, 0 to 27677\n",
      "Data columns (total 7 columns):\n",
      " #   Column                          Non-Null Count   Dtype   \n",
      "---  ------                          --------------   -----   \n",
      " 0   Provincia                       582717 non-null  category\n",
      " 1   Código Ente Principal           582717 non-null  category\n",
      " 2   Tipo Ente Principal             582717 non-null  category\n",
      " 3   Nombre Ente Principal           582717 non-null  category\n",
      " 4   Descripción                     582717 non-null  category\n",
      " 5   Unidades físicas de referencia  582717 non-null  category\n",
      " 6   Nº unidades                     582717 non-null  float64 \n",
      "dtypes: category(6), float64(1)\n",
      "memory usage: 14.5 MB\n"
     ]
    }
   ],
   "source": [
    "df_indicadores.info(memory_usage='deep')"
   ]
  },
  {
   "cell_type": "code",
   "execution_count": 8,
   "metadata": {},
   "outputs": [
    {
     "data": {
      "text/plain": [
       "Provincia                            46\n",
       "Código Ente Principal              5570\n",
       "Tipo Ente Principal                   7\n",
       "Nombre Ente Principal              5554\n",
       "Descripción                          43\n",
       "Unidades físicas de referencia       59\n",
       "Nº unidades                       35382\n",
       "dtype: int64"
      ]
     },
     "execution_count": 8,
     "metadata": {},
     "output_type": "execute_result"
    }
   ],
   "source": [
    "df_indicadores.nunique()"
   ]
  },
  {
   "cell_type": "code",
   "execution_count": 9,
   "metadata": {},
   "outputs": [
    {
     "data": {
      "text/plain": [
       "Index(['Provincia', 'Código Ente Principal', 'Tipo Ente Principal',\n",
       "       'Nombre Ente Principal', 'Descripción', 'coste_efectivo'],\n",
       "      dtype='object')"
      ]
     },
     "execution_count": 9,
     "metadata": {},
     "output_type": "execute_result"
    }
   ],
   "source": [
    "df_coste.columns"
   ]
  },
  {
   "cell_type": "code",
   "execution_count": 13,
   "metadata": {},
   "outputs": [],
   "source": [
    "peso=df_coste.groupby(by='Tipo Ente Principal').sum()"
   ]
  },
  {
   "cell_type": "code",
   "execution_count": 14,
   "metadata": {},
   "outputs": [
    {
     "data": {
      "text/plain": [
       "461049090058.33984"
      ]
     },
     "execution_count": 14,
     "metadata": {},
     "output_type": "execute_result"
    }
   ],
   "source": [
    "df_coste['coste_efectivo'].sum()"
   ]
  },
  {
   "cell_type": "code",
   "execution_count": 25,
   "metadata": {},
   "outputs": [
    {
     "data": {
      "text/html": [
       "<div>\n",
       "<style scoped>\n",
       "    .dataframe tbody tr th:only-of-type {\n",
       "        vertical-align: middle;\n",
       "    }\n",
       "\n",
       "    .dataframe tbody tr th {\n",
       "        vertical-align: top;\n",
       "    }\n",
       "\n",
       "    .dataframe thead th {\n",
       "        text-align: right;\n",
       "    }\n",
       "</style>\n",
       "<table border=\"1\" class=\"dataframe\">\n",
       "  <thead>\n",
       "    <tr style=\"text-align: right;\">\n",
       "      <th></th>\n",
       "      <th>coste_efectivo</th>\n",
       "    </tr>\n",
       "    <tr>\n",
       "      <th>Tipo Ente Principal</th>\n",
       "      <th></th>\n",
       "    </tr>\n",
       "  </thead>\n",
       "  <tbody>\n",
       "    <tr>\n",
       "      <th>Agrupación de municipios</th>\n",
       "      <td>0.00</td>\n",
       "    </tr>\n",
       "    <tr>\n",
       "      <th>Ayuntamiento</th>\n",
       "      <td>98.85</td>\n",
       "    </tr>\n",
       "    <tr>\n",
       "      <th>Comarca</th>\n",
       "      <td>0.05</td>\n",
       "    </tr>\n",
       "    <tr>\n",
       "      <th>Diputación/Consejo/Cabildo</th>\n",
       "      <td>0.64</td>\n",
       "    </tr>\n",
       "    <tr>\n",
       "      <th>Entidad Metropolitana</th>\n",
       "      <td>0.36</td>\n",
       "    </tr>\n",
       "    <tr>\n",
       "      <th>Entidad de ámbito territorial inferior al municipio</th>\n",
       "      <td>0.01</td>\n",
       "    </tr>\n",
       "    <tr>\n",
       "      <th>Mancomunidad</th>\n",
       "      <td>0.09</td>\n",
       "    </tr>\n",
       "  </tbody>\n",
       "</table>\n",
       "</div>"
      ],
      "text/plain": [
       "                                                    coste_efectivo\n",
       "Tipo Ente Principal                                               \n",
       "Agrupación de municipios                                      0.00\n",
       "Ayuntamiento                                                 98.85\n",
       "Comarca                                                       0.05\n",
       "Diputación/Consejo/Cabildo                                    0.64\n",
       "Entidad Metropolitana                                         0.36\n",
       "Entidad de ámbito territorial inferior al munic...            0.01\n",
       "Mancomunidad                                                  0.09"
      ]
     },
     "execution_count": 25,
     "metadata": {},
     "output_type": "execute_result"
    }
   ],
   "source": [
    "peso.apply(lambda x: round(((x/df_coste['coste_efectivo'].sum())*100),2))"
   ]
  },
  {
   "cell_type": "code",
   "execution_count": null,
   "metadata": {},
   "outputs": [],
   "source": []
  }
 ],
 "metadata": {
  "kernelspec": {
   "display_name": "Python [conda env:ml_env]",
   "language": "python",
   "name": "conda-env-ml_env-py"
  },
  "language_info": {
   "codemirror_mode": {
    "name": "ipython",
    "version": 3
   },
   "file_extension": ".py",
   "mimetype": "text/x-python",
   "name": "python",
   "nbconvert_exporter": "python",
   "pygments_lexer": "ipython3",
   "version": "3.7.7"
  }
 },
 "nbformat": 4,
 "nbformat_minor": 4
}
