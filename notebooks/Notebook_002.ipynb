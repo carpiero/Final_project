{
 "cells": [
  {
   "cell_type": "code",
   "execution_count": 48,
   "metadata": {},
   "outputs": [],
   "source": [
    "import pandas as pd\n",
    "import matplotlib.pyplot as plt\n",
    "import seaborn as sns\n",
    "import numpy as np\n",
    "import plotly.express as px\n",
    "plt.style.use('seaborn')\n",
    "%matplotlib inline\n",
    "\n",
    "pd.set_option('display.max_rows', 0)\n",
    "pd.set_option('display.max_columns', 0)\n",
    "\n",
    "df_total_coste = pd.read_parquet(f'../data/raw/df_total_coste.parquet')\n",
    "df_total_indicadores = pd.read_parquet(f'../data/raw/df_total_indicadores.parquet')\n",
    "\n",
    "\n",
    "df_coste = pd.read_parquet(f'../data/processed/df_coste.parquet')\n",
    "df_indicadores = pd.read_parquet(f'../data/processed/df_indicadores.parquet')"
   ]
  },
  {
   "cell_type": "code",
   "execution_count": 15,
   "metadata": {},
   "outputs": [
    {
     "name": "stdout",
     "output_type": "stream",
     "text": [
      "<class 'pandas.core.frame.DataFrame'>\n",
      "Int64Index: 336690 entries, 0 to 17939\n",
      "Data columns (total 6 columns):\n",
      " #   Column                 Non-Null Count   Dtype   \n",
      "---  ------                 --------------   -----   \n",
      " 0   Provincia              336690 non-null  category\n",
      " 1   Código Ente Principal  336690 non-null  category\n",
      " 2   Tipo Ente Principal    336690 non-null  category\n",
      " 3   Nombre Ente Principal  336690 non-null  category\n",
      " 4   Descripción            336690 non-null  category\n",
      " 5   coste_efectivo         336690 non-null  float64 \n",
      "dtypes: category(5), float64(1)\n",
      "memory usage: 8.5 MB\n"
     ]
    }
   ],
   "source": [
    "df_coste.info(memory_usage='deep')"
   ]
  },
  {
   "cell_type": "code",
   "execution_count": 16,
   "metadata": {},
   "outputs": [
    {
     "data": {
      "text/plain": [
       "Provincia                   46\n",
       "Código Ente Principal     5570\n",
       "Tipo Ente Principal          7\n",
       "Nombre Ente Principal     5554\n",
       "Descripción                 43\n",
       "coste_efectivo           70818\n",
       "dtype: int64"
      ]
     },
     "execution_count": 16,
     "metadata": {},
     "output_type": "execute_result"
    }
   ],
   "source": [
    "df_coste.nunique()"
   ]
  },
  {
   "cell_type": "code",
   "execution_count": 17,
   "metadata": {},
   "outputs": [
    {
     "name": "stdout",
     "output_type": "stream",
     "text": [
      "<class 'pandas.core.frame.DataFrame'>\n",
      "Int64Index: 582717 entries, 0 to 27677\n",
      "Data columns (total 7 columns):\n",
      " #   Column                          Non-Null Count   Dtype   \n",
      "---  ------                          --------------   -----   \n",
      " 0   Provincia                       582717 non-null  category\n",
      " 1   Código Ente Principal           582717 non-null  category\n",
      " 2   Tipo Ente Principal             582717 non-null  category\n",
      " 3   Nombre Ente Principal           582717 non-null  category\n",
      " 4   Descripción                     582717 non-null  category\n",
      " 5   Unidades físicas de referencia  582717 non-null  category\n",
      " 6   Nº unidades                     582717 non-null  float64 \n",
      "dtypes: category(6), float64(1)\n",
      "memory usage: 14.5 MB\n"
     ]
    }
   ],
   "source": [
    "df_indicadores.info(memory_usage='deep')"
   ]
  },
  {
   "cell_type": "code",
   "execution_count": 18,
   "metadata": {},
   "outputs": [
    {
     "data": {
      "text/plain": [
       "Provincia                            46\n",
       "Código Ente Principal              5570\n",
       "Tipo Ente Principal                   7\n",
       "Nombre Ente Principal              5554\n",
       "Descripción                          43\n",
       "Unidades físicas de referencia       59\n",
       "Nº unidades                       35382\n",
       "dtype: int64"
      ]
     },
     "execution_count": 18,
     "metadata": {},
     "output_type": "execute_result"
    }
   ],
   "source": [
    "df_indicadores.nunique()"
   ]
  },
  {
   "cell_type": "code",
   "execution_count": 19,
   "metadata": {},
   "outputs": [
    {
     "data": {
      "text/plain": [
       "Index(['Provincia', 'Código Ente Principal', 'Tipo Ente Principal',\n",
       "       'Nombre Ente Principal', 'Descripción', 'coste_efectivo'],\n",
       "      dtype='object')"
      ]
     },
     "execution_count": 19,
     "metadata": {},
     "output_type": "execute_result"
    }
   ],
   "source": [
    "df_coste.columns"
   ]
  },
  {
   "cell_type": "code",
   "execution_count": 20,
   "metadata": {},
   "outputs": [],
   "source": [
    "peso=df_coste.groupby(by='Tipo Ente Principal').sum()"
   ]
  },
  {
   "cell_type": "code",
   "execution_count": 21,
   "metadata": {},
   "outputs": [
    {
     "data": {
      "text/plain": [
       "461049090058.33984"
      ]
     },
     "execution_count": 21,
     "metadata": {},
     "output_type": "execute_result"
    }
   ],
   "source": [
    "df_coste['coste_efectivo'].sum()"
   ]
  },
  {
   "cell_type": "code",
   "execution_count": 22,
   "metadata": {},
   "outputs": [
    {
     "data": {
      "text/html": [
       "<div>\n",
       "<style scoped>\n",
       "    .dataframe tbody tr th:only-of-type {\n",
       "        vertical-align: middle;\n",
       "    }\n",
       "\n",
       "    .dataframe tbody tr th {\n",
       "        vertical-align: top;\n",
       "    }\n",
       "\n",
       "    .dataframe thead th {\n",
       "        text-align: right;\n",
       "    }\n",
       "</style>\n",
       "<table border=\"1\" class=\"dataframe\">\n",
       "  <thead>\n",
       "    <tr style=\"text-align: right;\">\n",
       "      <th></th>\n",
       "      <th>coste_efectivo</th>\n",
       "    </tr>\n",
       "    <tr>\n",
       "      <th>Tipo Ente Principal</th>\n",
       "      <th></th>\n",
       "    </tr>\n",
       "  </thead>\n",
       "  <tbody>\n",
       "    <tr>\n",
       "      <th>Agrupación de municipios</th>\n",
       "      <td>0.00</td>\n",
       "    </tr>\n",
       "    <tr>\n",
       "      <th>Ayuntamiento</th>\n",
       "      <td>98.85</td>\n",
       "    </tr>\n",
       "    <tr>\n",
       "      <th>Comarca</th>\n",
       "      <td>0.05</td>\n",
       "    </tr>\n",
       "    <tr>\n",
       "      <th>Diputación/Consejo/Cabildo</th>\n",
       "      <td>0.64</td>\n",
       "    </tr>\n",
       "    <tr>\n",
       "      <th>Entidad Metropolitana</th>\n",
       "      <td>0.36</td>\n",
       "    </tr>\n",
       "    <tr>\n",
       "      <th>Entidad de ámbito territorial inferior al municipio</th>\n",
       "      <td>0.01</td>\n",
       "    </tr>\n",
       "    <tr>\n",
       "      <th>Mancomunidad</th>\n",
       "      <td>0.09</td>\n",
       "    </tr>\n",
       "  </tbody>\n",
       "</table>\n",
       "</div>"
      ],
      "text/plain": [
       "                                                    coste_efectivo\n",
       "Tipo Ente Principal                                               \n",
       "Agrupación de municipios                                      0.00\n",
       "Ayuntamiento                                                 98.85\n",
       "Comarca                                                       0.05\n",
       "Diputación/Consejo/Cabildo                                    0.64\n",
       "Entidad Metropolitana                                         0.36\n",
       "Entidad de ámbito territorial inferior al munic...            0.01\n",
       "Mancomunidad                                                  0.09"
      ]
     },
     "execution_count": 22,
     "metadata": {},
     "output_type": "execute_result"
    }
   ],
   "source": [
    "peso.apply(lambda x: round(((x/df_coste['coste_efectivo'].sum())*100),2))"
   ]
  },
  {
   "cell_type": "code",
   "execution_count": 23,
   "metadata": {},
   "outputs": [],
   "source": [
    "df_coste.loc[(df_coste['Descripción']=='Abastos, mercados, lonjas ')&(df_coste['Nombre Ente Principal']=='Huércal de Almería'),'coste_efectivo']=0"
   ]
  },
  {
   "cell_type": "code",
   "execution_count": 24,
   "metadata": {},
   "outputs": [
    {
     "data": {
      "text/plain": [
       "1528    0.0\n",
       "Name: coste_efectivo, dtype: float64"
      ]
     },
     "execution_count": 24,
     "metadata": {},
     "output_type": "execute_result"
    }
   ],
   "source": [
    "df_coste.loc[(df_coste['Descripción']=='Abastos, mercados, lonjas ')&(df_coste['Nombre Ente Principal']=='Huércal de Almería'),'coste_efectivo']"
   ]
  },
  {
   "cell_type": "code",
   "execution_count": 46,
   "metadata": {},
   "outputs": [
    {
     "data": {
      "text/plain": [
       "37601533795.200005"
      ]
     },
     "execution_count": 46,
     "metadata": {},
     "output_type": "execute_result"
    }
   ],
   "source": [
    "df_coste['coste_efectivo'].sum()"
   ]
  },
  {
   "cell_type": "code",
   "execution_count": 26,
   "metadata": {},
   "outputs": [],
   "source": [
    "peso=df_coste.groupby(by='Tipo Ente Principal').sum()"
   ]
  },
  {
   "cell_type": "code",
   "execution_count": 27,
   "metadata": {},
   "outputs": [
    {
     "data": {
      "text/html": [
       "<div>\n",
       "<style scoped>\n",
       "    .dataframe tbody tr th:only-of-type {\n",
       "        vertical-align: middle;\n",
       "    }\n",
       "\n",
       "    .dataframe tbody tr th {\n",
       "        vertical-align: top;\n",
       "    }\n",
       "\n",
       "    .dataframe thead th {\n",
       "        text-align: right;\n",
       "    }\n",
       "</style>\n",
       "<table border=\"1\" class=\"dataframe\">\n",
       "  <thead>\n",
       "    <tr style=\"text-align: right;\">\n",
       "      <th></th>\n",
       "      <th>coste_efectivo</th>\n",
       "    </tr>\n",
       "    <tr>\n",
       "      <th>Tipo Ente Principal</th>\n",
       "      <th></th>\n",
       "    </tr>\n",
       "  </thead>\n",
       "  <tbody>\n",
       "    <tr>\n",
       "      <th>Agrupación de municipios</th>\n",
       "      <td>0.00</td>\n",
       "    </tr>\n",
       "    <tr>\n",
       "      <th>Ayuntamiento</th>\n",
       "      <td>85.92</td>\n",
       "    </tr>\n",
       "    <tr>\n",
       "      <th>Comarca</th>\n",
       "      <td>0.63</td>\n",
       "    </tr>\n",
       "    <tr>\n",
       "      <th>Diputación/Consejo/Cabildo</th>\n",
       "      <td>7.87</td>\n",
       "    </tr>\n",
       "    <tr>\n",
       "      <th>Entidad Metropolitana</th>\n",
       "      <td>4.36</td>\n",
       "    </tr>\n",
       "    <tr>\n",
       "      <th>Entidad de ámbito territorial inferior al municipio</th>\n",
       "      <td>0.07</td>\n",
       "    </tr>\n",
       "    <tr>\n",
       "      <th>Mancomunidad</th>\n",
       "      <td>1.15</td>\n",
       "    </tr>\n",
       "  </tbody>\n",
       "</table>\n",
       "</div>"
      ],
      "text/plain": [
       "                                                    coste_efectivo\n",
       "Tipo Ente Principal                                               \n",
       "Agrupación de municipios                                      0.00\n",
       "Ayuntamiento                                                 85.92\n",
       "Comarca                                                       0.63\n",
       "Diputación/Consejo/Cabildo                                    7.87\n",
       "Entidad Metropolitana                                         4.36\n",
       "Entidad de ámbito territorial inferior al munic...            0.07\n",
       "Mancomunidad                                                  1.15"
      ]
     },
     "execution_count": 27,
     "metadata": {},
     "output_type": "execute_result"
    }
   ],
   "source": [
    "peso.apply(lambda x: round(((x/df_coste['coste_efectivo'].sum())*100),2))"
   ]
  },
  {
   "cell_type": "code",
   "execution_count": 28,
   "metadata": {},
   "outputs": [],
   "source": [
    "# df_coste['cod_ente']=df_coste['Código Ente Principal']\n",
    "# df_coste['cod_ente'] = df_coste['cod_ente'].str.replace(r'\\d{2}-\\d{2}-\\d{3}-', '').str.replace(r'-\\d{3}$', '')\n"
   ]
  },
  {
   "cell_type": "code",
   "execution_count": 29,
   "metadata": {},
   "outputs": [],
   "source": [
    "# columns=['Provincia', 'Código Ente Principal', 'Tipo Ente Principal',\n",
    "#        'Nombre Ente Principal', 'Descripción']\n",
    "\n",
    "df_coste_pivot=df_coste.pivot_table(index=['Código Ente Principal'],values=['coste_efectivo'],columns=['Descripción'],aggfunc=np.sum)\n",
    "df_coste_pivot.columns = df_coste_pivot.columns.droplevel()\n",
    "df_coste_pivot.columns = df_coste_pivot.columns.tolist()\n",
    "df_coste_pivot.columns\n",
    "df_coste_pivot.reset_index(inplace=True)\n",
    "\n"
   ]
  },
  {
   "cell_type": "code",
   "execution_count": 30,
   "metadata": {},
   "outputs": [],
   "source": [
    "more_columns=df_coste.groupby(by=['Código Ente Principal',])[['Provincia','Tipo Ente Principal','Nombre Ente Principal']].min().reset_index()"
   ]
  },
  {
   "cell_type": "code",
   "execution_count": 31,
   "metadata": {},
   "outputs": [
    {
     "data": {
      "text/plain": [
       "Código Ente Principal    5570\n",
       "Provincia                  46\n",
       "Tipo Ente Principal         7\n",
       "Nombre Ente Principal    5554\n",
       "dtype: int64"
      ]
     },
     "execution_count": 31,
     "metadata": {},
     "output_type": "execute_result"
    }
   ],
   "source": [
    "more_columns.nunique()"
   ]
  },
  {
   "cell_type": "code",
   "execution_count": 32,
   "metadata": {},
   "outputs": [],
   "source": [
    "df_coste_pivot['Provincia']=more_columns['Provincia']\n",
    "df_coste_pivot['Tipo Ente Principal']=more_columns['Tipo Ente Principal']\n",
    "df_coste_pivot['Nombre Ente Principal']=more_columns['Nombre Ente Principal']\n",
    "\n",
    "\n",
    "\n",
    "\n"
   ]
  },
  {
   "cell_type": "code",
   "execution_count": 33,
   "metadata": {},
   "outputs": [],
   "source": [
    "cols = df_coste_pivot.columns.tolist()\n",
    "cols = cols[-3:] + cols[:-3] \n",
    "\n",
    "\n",
    "df_coste_pivot= df_coste_pivot[cols]"
   ]
  },
  {
   "cell_type": "code",
   "execution_count": 34,
   "metadata": {},
   "outputs": [],
   "source": [
    "pd.set_option('display.max_columns', 10)\n",
    "\n",
    "df_coste_pivot['codigoM']=df_coste_pivot['Código Ente Principal']\n",
    "\n",
    "df_coste_pivot['codigoM'] = df_coste_pivot['codigoM'].str.replace(r'^.{3}|.{7}$|-', '')\n",
    "\n",
    "\n",
    "\n",
    "\n",
    "\n",
    "\n",
    "\n",
    "\n"
   ]
  },
  {
   "cell_type": "code",
   "execution_count": 35,
   "metadata": {},
   "outputs": [
    {
     "data": {
      "text/plain": [
       "Ayuntamiento                                           4869\n",
       "Mancomunidad                                            311\n",
       "Entidad de ámbito territorial inferior al municipio     280\n",
       "Comarca                                                  53\n",
       "Diputación/Consejo/Cabildo                               47\n",
       "Agrupación de municipios                                  7\n",
       "Entidad Metropolitana                                     3\n",
       "Name: Tipo Ente Principal, dtype: int64"
      ]
     },
     "execution_count": 35,
     "metadata": {},
     "output_type": "execute_result"
    }
   ],
   "source": [
    "df_coste_pivot['Tipo Ente Principal'].value_counts()"
   ]
  },
  {
   "cell_type": "code",
   "execution_count": 36,
   "metadata": {},
   "outputs": [
    {
     "data": {
      "text/html": [
       "<div>\n",
       "<style scoped>\n",
       "    .dataframe tbody tr th:only-of-type {\n",
       "        vertical-align: middle;\n",
       "    }\n",
       "\n",
       "    .dataframe tbody tr th {\n",
       "        vertical-align: top;\n",
       "    }\n",
       "\n",
       "    .dataframe thead th {\n",
       "        text-align: right;\n",
       "    }\n",
       "</style>\n",
       "<table border=\"1\" class=\"dataframe\">\n",
       "  <thead>\n",
       "    <tr style=\"text-align: right;\">\n",
       "      <th></th>\n",
       "      <th>Provincia</th>\n",
       "      <th>Tipo Ente Principal</th>\n",
       "      <th>Nombre Ente Principal</th>\n",
       "      <th>Código Ente Principal</th>\n",
       "      <th>Abastecimiento domiciliario de agua potable</th>\n",
       "      <th>...</th>\n",
       "      <th>Transporte colectivo urbano de viajeros</th>\n",
       "      <th>Tratamiento de residuos</th>\n",
       "      <th>Tráfico, estacionamiento de vehículos y movilidad</th>\n",
       "      <th>Urbanismo: planeamiento, gestión, ejecución y disciplina urbanística</th>\n",
       "      <th>codigoM</th>\n",
       "    </tr>\n",
       "  </thead>\n",
       "  <tbody>\n",
       "    <tr>\n",
       "      <th>0</th>\n",
       "      <td>Almería</td>\n",
       "      <td>Ayuntamiento</td>\n",
       "      <td>Abla</td>\n",
       "      <td>01-04-001-AA-000</td>\n",
       "      <td>282928.39</td>\n",
       "      <td>...</td>\n",
       "      <td>0.0</td>\n",
       "      <td>0.0</td>\n",
       "      <td>4260.16</td>\n",
       "      <td>2275.98</td>\n",
       "      <td>04001</td>\n",
       "    </tr>\n",
       "    <tr>\n",
       "      <th>1</th>\n",
       "      <td>Almería</td>\n",
       "      <td>Ayuntamiento</td>\n",
       "      <td>Abrucena</td>\n",
       "      <td>01-04-002-AA-000</td>\n",
       "      <td>77227.64</td>\n",
       "      <td>...</td>\n",
       "      <td>0.0</td>\n",
       "      <td>0.0</td>\n",
       "      <td>0.00</td>\n",
       "      <td>16674.59</td>\n",
       "      <td>04002</td>\n",
       "    </tr>\n",
       "    <tr>\n",
       "      <th>2</th>\n",
       "      <td>Almería</td>\n",
       "      <td>Ayuntamiento</td>\n",
       "      <td>Adra</td>\n",
       "      <td>01-04-003-AA-000</td>\n",
       "      <td>1255574.16</td>\n",
       "      <td>...</td>\n",
       "      <td>0.0</td>\n",
       "      <td>0.0</td>\n",
       "      <td>144618.30</td>\n",
       "      <td>125720.58</td>\n",
       "      <td>04003</td>\n",
       "    </tr>\n",
       "    <tr>\n",
       "      <th>3</th>\n",
       "      <td>Almería</td>\n",
       "      <td>Ayuntamiento</td>\n",
       "      <td>Albánchez</td>\n",
       "      <td>01-04-004-AA-000</td>\n",
       "      <td>60828.11</td>\n",
       "      <td>...</td>\n",
       "      <td>0.0</td>\n",
       "      <td>0.0</td>\n",
       "      <td>0.00</td>\n",
       "      <td>5637.62</td>\n",
       "      <td>04004</td>\n",
       "    </tr>\n",
       "    <tr>\n",
       "      <th>4</th>\n",
       "      <td>Almería</td>\n",
       "      <td>Ayuntamiento</td>\n",
       "      <td>Alboloduy</td>\n",
       "      <td>01-04-005-AA-000</td>\n",
       "      <td>157266.48</td>\n",
       "      <td>...</td>\n",
       "      <td>0.0</td>\n",
       "      <td>0.0</td>\n",
       "      <td>0.00</td>\n",
       "      <td>0.00</td>\n",
       "      <td>04005</td>\n",
       "    </tr>\n",
       "    <tr>\n",
       "      <th>5</th>\n",
       "      <td>Almería</td>\n",
       "      <td>Ayuntamiento</td>\n",
       "      <td>Albox</td>\n",
       "      <td>01-04-006-AA-000</td>\n",
       "      <td>0.00</td>\n",
       "      <td>...</td>\n",
       "      <td>0.0</td>\n",
       "      <td>0.0</td>\n",
       "      <td>75471.49</td>\n",
       "      <td>259966.22</td>\n",
       "      <td>04006</td>\n",
       "    </tr>\n",
       "    <tr>\n",
       "      <th>6</th>\n",
       "      <td>Almería</td>\n",
       "      <td>Ayuntamiento</td>\n",
       "      <td>Alcolea</td>\n",
       "      <td>01-04-007-AA-000</td>\n",
       "      <td>61945.05</td>\n",
       "      <td>...</td>\n",
       "      <td>0.0</td>\n",
       "      <td>0.0</td>\n",
       "      <td>0.00</td>\n",
       "      <td>18720.14</td>\n",
       "      <td>04007</td>\n",
       "    </tr>\n",
       "    <tr>\n",
       "      <th>7</th>\n",
       "      <td>Almería</td>\n",
       "      <td>Ayuntamiento</td>\n",
       "      <td>Alcóntar</td>\n",
       "      <td>01-04-008-AA-000</td>\n",
       "      <td>50007.27</td>\n",
       "      <td>...</td>\n",
       "      <td>0.0</td>\n",
       "      <td>0.0</td>\n",
       "      <td>0.00</td>\n",
       "      <td>41055.51</td>\n",
       "      <td>04008</td>\n",
       "    </tr>\n",
       "    <tr>\n",
       "      <th>8</th>\n",
       "      <td>Almería</td>\n",
       "      <td>Ayuntamiento</td>\n",
       "      <td>Alcudia de Monteagud</td>\n",
       "      <td>01-04-009-AA-000</td>\n",
       "      <td>36579.39</td>\n",
       "      <td>...</td>\n",
       "      <td>0.0</td>\n",
       "      <td>0.0</td>\n",
       "      <td>0.00</td>\n",
       "      <td>0.00</td>\n",
       "      <td>04009</td>\n",
       "    </tr>\n",
       "    <tr>\n",
       "      <th>...</th>\n",
       "      <td>...</td>\n",
       "      <td>...</td>\n",
       "      <td>...</td>\n",
       "      <td>...</td>\n",
       "      <td>...</td>\n",
       "      <td>...</td>\n",
       "      <td>...</td>\n",
       "      <td>...</td>\n",
       "      <td>...</td>\n",
       "      <td>...</td>\n",
       "      <td>...</td>\n",
       "    </tr>\n",
       "    <tr>\n",
       "      <th>5140</th>\n",
       "      <td>Valencia / València</td>\n",
       "      <td>Ayuntamiento</td>\n",
       "      <td>Villanueva de Castellón</td>\n",
       "      <td>17-46-257-AA-000</td>\n",
       "      <td>0.01</td>\n",
       "      <td>...</td>\n",
       "      <td>0.0</td>\n",
       "      <td>1.0</td>\n",
       "      <td>5717.67</td>\n",
       "      <td>7098.59</td>\n",
       "      <td>46257</td>\n",
       "    </tr>\n",
       "    <tr>\n",
       "      <th>5141</th>\n",
       "      <td>Valencia / València</td>\n",
       "      <td>Ayuntamiento</td>\n",
       "      <td>Villar del Arzobispo</td>\n",
       "      <td>17-46-258-AA-000</td>\n",
       "      <td>0.00</td>\n",
       "      <td>...</td>\n",
       "      <td>0.0</td>\n",
       "      <td>0.0</td>\n",
       "      <td>0.00</td>\n",
       "      <td>0.00</td>\n",
       "      <td>46258</td>\n",
       "    </tr>\n",
       "    <tr>\n",
       "      <th>5142</th>\n",
       "      <td>Valencia / València</td>\n",
       "      <td>Ayuntamiento</td>\n",
       "      <td>Villargordo del Cabriel</td>\n",
       "      <td>17-46-259-AA-000</td>\n",
       "      <td>177319.66</td>\n",
       "      <td>...</td>\n",
       "      <td>0.0</td>\n",
       "      <td>0.0</td>\n",
       "      <td>0.00</td>\n",
       "      <td>56453.14</td>\n",
       "      <td>46259</td>\n",
       "    </tr>\n",
       "    <tr>\n",
       "      <th>5143</th>\n",
       "      <td>Valencia / València</td>\n",
       "      <td>Ayuntamiento</td>\n",
       "      <td>Vinalesa</td>\n",
       "      <td>17-46-260-AA-000</td>\n",
       "      <td>198261.01</td>\n",
       "      <td>...</td>\n",
       "      <td>0.0</td>\n",
       "      <td>0.0</td>\n",
       "      <td>0.00</td>\n",
       "      <td>94940.58</td>\n",
       "      <td>46260</td>\n",
       "    </tr>\n",
       "    <tr>\n",
       "      <th>5144</th>\n",
       "      <td>Valencia / València</td>\n",
       "      <td>Ayuntamiento</td>\n",
       "      <td>Yátova</td>\n",
       "      <td>17-46-261-AA-000</td>\n",
       "      <td>0.00</td>\n",
       "      <td>...</td>\n",
       "      <td>0.0</td>\n",
       "      <td>0.0</td>\n",
       "      <td>0.00</td>\n",
       "      <td>74352.80</td>\n",
       "      <td>46261</td>\n",
       "    </tr>\n",
       "    <tr>\n",
       "      <th>5145</th>\n",
       "      <td>Valencia / València</td>\n",
       "      <td>Ayuntamiento</td>\n",
       "      <td>Zarra</td>\n",
       "      <td>17-46-263-AA-000</td>\n",
       "      <td>13147.66</td>\n",
       "      <td>...</td>\n",
       "      <td>0.0</td>\n",
       "      <td>0.0</td>\n",
       "      <td>0.00</td>\n",
       "      <td>15880.16</td>\n",
       "      <td>46263</td>\n",
       "    </tr>\n",
       "    <tr>\n",
       "      <th>5146</th>\n",
       "      <td>Valencia / València</td>\n",
       "      <td>Ayuntamiento</td>\n",
       "      <td>Gátova</td>\n",
       "      <td>17-46-902-AA-000</td>\n",
       "      <td>1291.17</td>\n",
       "      <td>...</td>\n",
       "      <td>0.0</td>\n",
       "      <td>0.0</td>\n",
       "      <td>0.00</td>\n",
       "      <td>0.00</td>\n",
       "      <td>46902</td>\n",
       "    </tr>\n",
       "    <tr>\n",
       "      <th>5147</th>\n",
       "      <td>Valencia / València</td>\n",
       "      <td>Ayuntamiento</td>\n",
       "      <td>San Antonio de Benagéber</td>\n",
       "      <td>17-46-903-AA-000</td>\n",
       "      <td>179150.73</td>\n",
       "      <td>...</td>\n",
       "      <td>0.0</td>\n",
       "      <td>0.0</td>\n",
       "      <td>16324.58</td>\n",
       "      <td>167753.77</td>\n",
       "      <td>46903</td>\n",
       "    </tr>\n",
       "    <tr>\n",
       "      <th>5148</th>\n",
       "      <td>Valencia / València</td>\n",
       "      <td>Ayuntamiento</td>\n",
       "      <td>Benicull de Xúquer</td>\n",
       "      <td>17-46-904-AA-000</td>\n",
       "      <td>0.00</td>\n",
       "      <td>...</td>\n",
       "      <td>0.0</td>\n",
       "      <td>0.0</td>\n",
       "      <td>0.00</td>\n",
       "      <td>64801.88</td>\n",
       "      <td>46904</td>\n",
       "    </tr>\n",
       "  </tbody>\n",
       "</table>\n",
       "<p>5149 rows × 48 columns</p>\n",
       "</div>"
      ],
      "text/plain": [
       "                Provincia Tipo Ente Principal     Nombre Ente Principal  \\\n",
       "0                 Almería        Ayuntamiento                      Abla   \n",
       "1                 Almería        Ayuntamiento                  Abrucena   \n",
       "2                 Almería        Ayuntamiento                      Adra   \n",
       "3                 Almería        Ayuntamiento                 Albánchez   \n",
       "4                 Almería        Ayuntamiento                 Alboloduy   \n",
       "5                 Almería        Ayuntamiento                     Albox   \n",
       "6                 Almería        Ayuntamiento                   Alcolea   \n",
       "7                 Almería        Ayuntamiento                  Alcóntar   \n",
       "8                 Almería        Ayuntamiento      Alcudia de Monteagud   \n",
       "...                   ...                 ...                       ...   \n",
       "5140  Valencia / València        Ayuntamiento   Villanueva de Castellón   \n",
       "5141  Valencia / València        Ayuntamiento      Villar del Arzobispo   \n",
       "5142  Valencia / València        Ayuntamiento   Villargordo del Cabriel   \n",
       "5143  Valencia / València        Ayuntamiento                  Vinalesa   \n",
       "5144  Valencia / València        Ayuntamiento                    Yátova   \n",
       "5145  Valencia / València        Ayuntamiento                     Zarra   \n",
       "5146  Valencia / València        Ayuntamiento                    Gátova   \n",
       "5147  Valencia / València        Ayuntamiento  San Antonio de Benagéber   \n",
       "5148  Valencia / València        Ayuntamiento        Benicull de Xúquer   \n",
       "\n",
       "     Código Ente Principal  Abastecimiento domiciliario de agua potable  ...  \\\n",
       "0         01-04-001-AA-000                                    282928.39  ...   \n",
       "1         01-04-002-AA-000                                     77227.64  ...   \n",
       "2         01-04-003-AA-000                                   1255574.16  ...   \n",
       "3         01-04-004-AA-000                                     60828.11  ...   \n",
       "4         01-04-005-AA-000                                    157266.48  ...   \n",
       "5         01-04-006-AA-000                                         0.00  ...   \n",
       "6         01-04-007-AA-000                                     61945.05  ...   \n",
       "7         01-04-008-AA-000                                     50007.27  ...   \n",
       "8         01-04-009-AA-000                                     36579.39  ...   \n",
       "...                    ...                                          ...  ...   \n",
       "5140      17-46-257-AA-000                                         0.01  ...   \n",
       "5141      17-46-258-AA-000                                         0.00  ...   \n",
       "5142      17-46-259-AA-000                                    177319.66  ...   \n",
       "5143      17-46-260-AA-000                                    198261.01  ...   \n",
       "5144      17-46-261-AA-000                                         0.00  ...   \n",
       "5145      17-46-263-AA-000                                     13147.66  ...   \n",
       "5146      17-46-902-AA-000                                      1291.17  ...   \n",
       "5147      17-46-903-AA-000                                    179150.73  ...   \n",
       "5148      17-46-904-AA-000                                         0.00  ...   \n",
       "\n",
       "      Transporte colectivo urbano de viajeros  Tratamiento de residuos  \\\n",
       "0                                         0.0                      0.0   \n",
       "1                                         0.0                      0.0   \n",
       "2                                         0.0                      0.0   \n",
       "3                                         0.0                      0.0   \n",
       "4                                         0.0                      0.0   \n",
       "5                                         0.0                      0.0   \n",
       "6                                         0.0                      0.0   \n",
       "7                                         0.0                      0.0   \n",
       "8                                         0.0                      0.0   \n",
       "...                                       ...                      ...   \n",
       "5140                                      0.0                      1.0   \n",
       "5141                                      0.0                      0.0   \n",
       "5142                                      0.0                      0.0   \n",
       "5143                                      0.0                      0.0   \n",
       "5144                                      0.0                      0.0   \n",
       "5145                                      0.0                      0.0   \n",
       "5146                                      0.0                      0.0   \n",
       "5147                                      0.0                      0.0   \n",
       "5148                                      0.0                      0.0   \n",
       "\n",
       "      Tráfico, estacionamiento de vehículos y movilidad  \\\n",
       "0                                               4260.16   \n",
       "1                                                  0.00   \n",
       "2                                             144618.30   \n",
       "3                                                  0.00   \n",
       "4                                                  0.00   \n",
       "5                                              75471.49   \n",
       "6                                                  0.00   \n",
       "7                                                  0.00   \n",
       "8                                                  0.00   \n",
       "...                                                 ...   \n",
       "5140                                            5717.67   \n",
       "5141                                               0.00   \n",
       "5142                                               0.00   \n",
       "5143                                               0.00   \n",
       "5144                                               0.00   \n",
       "5145                                               0.00   \n",
       "5146                                               0.00   \n",
       "5147                                           16324.58   \n",
       "5148                                               0.00   \n",
       "\n",
       "      Urbanismo: planeamiento, gestión, ejecución y disciplina urbanística  \\\n",
       "0                                               2275.98                      \n",
       "1                                              16674.59                      \n",
       "2                                             125720.58                      \n",
       "3                                               5637.62                      \n",
       "4                                                  0.00                      \n",
       "5                                             259966.22                      \n",
       "6                                              18720.14                      \n",
       "7                                              41055.51                      \n",
       "8                                                  0.00                      \n",
       "...                                                 ...                      \n",
       "5140                                            7098.59                      \n",
       "5141                                               0.00                      \n",
       "5142                                           56453.14                      \n",
       "5143                                           94940.58                      \n",
       "5144                                           74352.80                      \n",
       "5145                                           15880.16                      \n",
       "5146                                               0.00                      \n",
       "5147                                          167753.77                      \n",
       "5148                                           64801.88                      \n",
       "\n",
       "      codigoM  \n",
       "0       04001  \n",
       "1       04002  \n",
       "2       04003  \n",
       "3       04004  \n",
       "4       04005  \n",
       "5       04006  \n",
       "6       04007  \n",
       "7       04008  \n",
       "8       04009  \n",
       "...       ...  \n",
       "5140    46257  \n",
       "5141    46258  \n",
       "5142    46259  \n",
       "5143    46260  \n",
       "5144    46261  \n",
       "5145    46263  \n",
       "5146    46902  \n",
       "5147    46903  \n",
       "5148    46904  \n",
       "\n",
       "[5149 rows x 48 columns]"
      ]
     },
     "execution_count": 36,
     "metadata": {},
     "output_type": "execute_result"
    }
   ],
   "source": [
    "df_final=df_coste_pivot.loc[(df_coste_pivot['Tipo Ente Principal']=='Ayuntamiento')|\\\n",
    "                      (df_coste_pivot['Tipo Ente Principal']=='Entidad de ámbito territorial inferior al municipio')].reset_index()\n",
    "\n",
    "\n",
    "\n",
    "\n",
    "df_final=df_final.drop(columns=['index'])\n",
    "\n",
    "df_final\n",
    "\n",
    "\n"
   ]
  },
  {
   "cell_type": "markdown",
   "metadata": {},
   "source": [
    "## POBLACION"
   ]
  },
  {
   "cell_type": "code",
   "execution_count": 37,
   "metadata": {},
   "outputs": [],
   "source": [
    "df_pob=pd.read_excel(f'/home/carpiero/IRONHACK/Proyecto FINAL/Datos municipios.xlsx', sheet_name=0,header=0)\n",
    "\n"
   ]
  },
  {
   "cell_type": "code",
   "execution_count": 38,
   "metadata": {},
   "outputs": [],
   "source": [
    "df_pob=df_pob[['Población 2018',  'superficie',  'entidades singulares menores', ' ']]"
   ]
  },
  {
   "cell_type": "code",
   "execution_count": 39,
   "metadata": {},
   "outputs": [],
   "source": [
    "df_pob['codigoM']=df_pob[' ']"
   ]
  },
  {
   "cell_type": "code",
   "execution_count": 40,
   "metadata": {},
   "outputs": [
    {
     "data": {
      "text/html": [
       "<div>\n",
       "<style scoped>\n",
       "    .dataframe tbody tr th:only-of-type {\n",
       "        vertical-align: middle;\n",
       "    }\n",
       "\n",
       "    .dataframe tbody tr th {\n",
       "        vertical-align: top;\n",
       "    }\n",
       "\n",
       "    .dataframe thead th {\n",
       "        text-align: right;\n",
       "    }\n",
       "</style>\n",
       "<table border=\"1\" class=\"dataframe\">\n",
       "  <thead>\n",
       "    <tr style=\"text-align: right;\">\n",
       "      <th></th>\n",
       "      <th>Población 2018</th>\n",
       "      <th>superficie</th>\n",
       "      <th>entidades singulares menores</th>\n",
       "      <th></th>\n",
       "      <th>codigoM</th>\n",
       "    </tr>\n",
       "  </thead>\n",
       "  <tbody>\n",
       "    <tr>\n",
       "      <th>0</th>\n",
       "      <td>2887</td>\n",
       "      <td>19.95</td>\n",
       "      <td>2.0</td>\n",
       "      <td>01001 Alegría-Dulantzi</td>\n",
       "      <td>01001</td>\n",
       "    </tr>\n",
       "    <tr>\n",
       "      <th>1</th>\n",
       "      <td>10286</td>\n",
       "      <td>96.36</td>\n",
       "      <td>10.0</td>\n",
       "      <td>01002 Amurrio</td>\n",
       "      <td>01002</td>\n",
       "    </tr>\n",
       "    <tr>\n",
       "      <th>2</th>\n",
       "      <td>1483</td>\n",
       "      <td>73.27</td>\n",
       "      <td>9.0</td>\n",
       "      <td>01003 Aramaio</td>\n",
       "      <td>01003</td>\n",
       "    </tr>\n",
       "    <tr>\n",
       "      <th>3</th>\n",
       "      <td>1831</td>\n",
       "      <td>27.45</td>\n",
       "      <td>7.0</td>\n",
       "      <td>01004 Artziniega</td>\n",
       "      <td>01004</td>\n",
       "    </tr>\n",
       "    <tr>\n",
       "      <th>4</th>\n",
       "      <td>219</td>\n",
       "      <td>12.94</td>\n",
       "      <td>3.0</td>\n",
       "      <td>01006 Armiñón</td>\n",
       "      <td>01006</td>\n",
       "    </tr>\n",
       "    <tr>\n",
       "      <th>5</th>\n",
       "      <td>982</td>\n",
       "      <td>57.41</td>\n",
       "      <td>11.0</td>\n",
       "      <td>01008 Arratzua-Ubarrundia</td>\n",
       "      <td>01008</td>\n",
       "    </tr>\n",
       "    <tr>\n",
       "      <th>6</th>\n",
       "      <td>1643</td>\n",
       "      <td>65.18</td>\n",
       "      <td>10.0</td>\n",
       "      <td>01009 Asparrena</td>\n",
       "      <td>01009</td>\n",
       "    </tr>\n",
       "    <tr>\n",
       "      <th>7</th>\n",
       "      <td>2967</td>\n",
       "      <td>140.85</td>\n",
       "      <td>24.0</td>\n",
       "      <td>01010 Ayala/Aiara</td>\n",
       "      <td>01010</td>\n",
       "    </tr>\n",
       "    <tr>\n",
       "      <th>8</th>\n",
       "      <td>286</td>\n",
       "      <td>9.46</td>\n",
       "      <td>1.0</td>\n",
       "      <td>01011 Baños de Ebro/Mañueta</td>\n",
       "      <td>01011</td>\n",
       "    </tr>\n",
       "    <tr>\n",
       "      <th>...</th>\n",
       "      <td>...</td>\n",
       "      <td>...</td>\n",
       "      <td>...</td>\n",
       "      <td>...</td>\n",
       "      <td>...</td>\n",
       "    </tr>\n",
       "    <tr>\n",
       "      <th>8122</th>\n",
       "      <td>5155</td>\n",
       "      <td>NaN</td>\n",
       "      <td>NaN</td>\n",
       "      <td>15902 Oza-Cesuras</td>\n",
       "      <td>15902</td>\n",
       "    </tr>\n",
       "    <tr>\n",
       "      <th>8123</th>\n",
       "      <td>723</td>\n",
       "      <td>NaN</td>\n",
       "      <td>NaN</td>\n",
       "      <td>18065 Dehesas Viejas</td>\n",
       "      <td>18065</td>\n",
       "    </tr>\n",
       "    <tr>\n",
       "      <th>8124</th>\n",
       "      <td>599</td>\n",
       "      <td>NaN</td>\n",
       "      <td>NaN</td>\n",
       "      <td>18106 Játar</td>\n",
       "      <td>18106</td>\n",
       "    </tr>\n",
       "    <tr>\n",
       "      <th>8125</th>\n",
       "      <td>2086</td>\n",
       "      <td>NaN</td>\n",
       "      <td>NaN</td>\n",
       "      <td>18914 Valderrubio</td>\n",
       "      <td>18914</td>\n",
       "    </tr>\n",
       "    <tr>\n",
       "      <th>8126</th>\n",
       "      <td>890</td>\n",
       "      <td>NaN</td>\n",
       "      <td>NaN</td>\n",
       "      <td>18915 Domingo Pérez de Granada</td>\n",
       "      <td>18915</td>\n",
       "    </tr>\n",
       "    <tr>\n",
       "      <th>8127</th>\n",
       "      <td>585</td>\n",
       "      <td>NaN</td>\n",
       "      <td>NaN</td>\n",
       "      <td>29903 Montecorto</td>\n",
       "      <td>29903</td>\n",
       "    </tr>\n",
       "    <tr>\n",
       "      <th>8128</th>\n",
       "      <td>477</td>\n",
       "      <td>NaN</td>\n",
       "      <td>NaN</td>\n",
       "      <td>29904 Serrato</td>\n",
       "      <td>29904</td>\n",
       "    </tr>\n",
       "    <tr>\n",
       "      <th>8129</th>\n",
       "      <td>5815</td>\n",
       "      <td>NaN</td>\n",
       "      <td>NaN</td>\n",
       "      <td>36902 Cerdedo-Cotobade</td>\n",
       "      <td>36902</td>\n",
       "    </tr>\n",
       "    <tr>\n",
       "      <th>8130</th>\n",
       "      <td>NaN</td>\n",
       "      <td>NaN</td>\n",
       "      <td>NaN</td>\n",
       "      <td>41904 Palmar de Troya, El</td>\n",
       "      <td>41904</td>\n",
       "    </tr>\n",
       "  </tbody>\n",
       "</table>\n",
       "<p>8131 rows × 5 columns</p>\n",
       "</div>"
      ],
      "text/plain": [
       "     Población 2018  superficie  entidades singulares menores  \\\n",
       "0              2887       19.95                           2.0   \n",
       "1             10286       96.36                          10.0   \n",
       "2              1483       73.27                           9.0   \n",
       "3              1831       27.45                           7.0   \n",
       "4               219       12.94                           3.0   \n",
       "5               982       57.41                          11.0   \n",
       "6              1643       65.18                          10.0   \n",
       "7              2967      140.85                          24.0   \n",
       "8               286        9.46                           1.0   \n",
       "...             ...         ...                           ...   \n",
       "8122           5155         NaN                           NaN   \n",
       "8123            723         NaN                           NaN   \n",
       "8124            599         NaN                           NaN   \n",
       "8125           2086         NaN                           NaN   \n",
       "8126            890         NaN                           NaN   \n",
       "8127            585         NaN                           NaN   \n",
       "8128            477         NaN                           NaN   \n",
       "8129           5815         NaN                           NaN   \n",
       "8130            NaN         NaN                           NaN   \n",
       "\n",
       "                                     codigoM  \n",
       "0             01001 Alegría-Dulantzi   01001  \n",
       "1                      01002 Amurrio   01002  \n",
       "2                      01003 Aramaio   01003  \n",
       "3                   01004 Artziniega   01004  \n",
       "4                      01006 Armiñón   01006  \n",
       "5          01008 Arratzua-Ubarrundia   01008  \n",
       "6                    01009 Asparrena   01009  \n",
       "7                  01010 Ayala/Aiara   01010  \n",
       "8        01011 Baños de Ebro/Mañueta   01011  \n",
       "...                              ...     ...  \n",
       "8122               15902 Oza-Cesuras   15902  \n",
       "8123            18065 Dehesas Viejas   18065  \n",
       "8124                     18106 Játar   18106  \n",
       "8125               18914 Valderrubio   18914  \n",
       "8126  18915 Domingo Pérez de Granada   18915  \n",
       "8127                29903 Montecorto   29903  \n",
       "8128                   29904 Serrato   29904  \n",
       "8129          36902 Cerdedo-Cotobade   36902  \n",
       "8130       41904 Palmar de Troya, El   41904  \n",
       "\n",
       "[8131 rows x 5 columns]"
      ]
     },
     "execution_count": 40,
     "metadata": {},
     "output_type": "execute_result"
    }
   ],
   "source": [
    "df_pob['codigoM'] = df_pob['codigoM'].str.replace(r'\\D', '')\n",
    "\n",
    "df_pob"
   ]
  },
  {
   "cell_type": "code",
   "execution_count": 41,
   "metadata": {},
   "outputs": [],
   "source": [
    "df_final_pob = pd.merge(df_final, df_pob, on='codigoM', how='left')"
   ]
  },
  {
   "cell_type": "code",
   "execution_count": 42,
   "metadata": {},
   "outputs": [],
   "source": [
    "df_final_pob=df_final_pob.drop(columns=['superficie',\n",
    "       'entidades singulares menores', ' '])\n",
    "\n",
    "\n",
    "\n"
   ]
  },
  {
   "cell_type": "code",
   "execution_count": 79,
   "metadata": {},
   "outputs": [],
   "source": [
    "df_final_pob['TOTAL']=range(df_final_pob.shape[0])\n",
    "\n",
    "\n",
    "df_final_pob['TOTAL']=df_final_pob.apply(lambda new: df_final_pob.iloc[new['TOTAL'],4:47].sum(), axis=1)\n",
    "\n",
    "\n",
    "\n",
    "\n"
   ]
  },
  {
   "cell_type": "code",
   "execution_count": 81,
   "metadata": {},
   "outputs": [
    {
     "data": {
      "text/plain": [
       "32335651226.0"
      ]
     },
     "execution_count": 81,
     "metadata": {},
     "output_type": "execute_result"
    }
   ],
   "source": [
    "df_final_pob['TOTAL'].sum()"
   ]
  },
  {
   "cell_type": "code",
   "execution_count": 84,
   "metadata": {},
   "outputs": [
    {
     "data": {
      "text/html": [
       "<div>\n",
       "<style scoped>\n",
       "    .dataframe tbody tr th:only-of-type {\n",
       "        vertical-align: middle;\n",
       "    }\n",
       "\n",
       "    .dataframe tbody tr th {\n",
       "        vertical-align: top;\n",
       "    }\n",
       "\n",
       "    .dataframe thead th {\n",
       "        text-align: right;\n",
       "    }\n",
       "</style>\n",
       "<table border=\"1\" class=\"dataframe\">\n",
       "  <thead>\n",
       "    <tr style=\"text-align: right;\">\n",
       "      <th></th>\n",
       "      <th>TOTAL</th>\n",
       "    </tr>\n",
       "    <tr>\n",
       "      <th>Tipo Ente Principal</th>\n",
       "      <th></th>\n",
       "    </tr>\n",
       "  </thead>\n",
       "  <tbody>\n",
       "    <tr>\n",
       "      <th>Ayuntamiento</th>\n",
       "      <td>3.230883e+10</td>\n",
       "    </tr>\n",
       "    <tr>\n",
       "      <th>Entidad de ámbito territorial inferior al municipio</th>\n",
       "      <td>2.682528e+07</td>\n",
       "    </tr>\n",
       "  </tbody>\n",
       "</table>\n",
       "</div>"
      ],
      "text/plain": [
       "                                                           TOTAL\n",
       "Tipo Ente Principal                                             \n",
       "Ayuntamiento                                        3.230883e+10\n",
       "Entidad de ámbito territorial inferior al munic...  2.682528e+07"
      ]
     },
     "execution_count": 84,
     "metadata": {},
     "output_type": "execute_result"
    }
   ],
   "source": [
    "df_final_pob[['Tipo Ente Principal','TOTAL']].groupby('Tipo Ente Principal').sum()"
   ]
  },
  {
   "cell_type": "code",
   "execution_count": 50,
   "metadata": {},
   "outputs": [],
   "source": [
    "# fig=px.histogram(df_final_pob, x='Población 2018',nbins=400,template='seaborn',title='Age',barmode='group')\n",
    "# fig.show()"
   ]
  },
  {
   "cell_type": "code",
   "execution_count": 53,
   "metadata": {},
   "outputs": [
    {
     "name": "stdout",
     "output_type": "stream",
     "text": [
      "<class 'pandas.core.frame.DataFrame'>\n",
      "Int64Index: 5149 entries, 0 to 5148\n",
      "Data columns (total 49 columns):\n",
      " #   Column                                                                                                                                                                             Non-Null Count  Dtype   \n",
      "---  ------                                                                                                                                                                             --------------  -----   \n",
      " 0   Provincia                                                                                                                                                                          5149 non-null   object  \n",
      " 1   Tipo Ente Principal                                                                                                                                                                5149 non-null   object  \n",
      " 2   Nombre Ente Principal                                                                                                                                                              5149 non-null   object  \n",
      " 3   Código Ente Principal                                                                                                                                                              5149 non-null   category\n",
      " 4   Abastecimiento domiciliario de agua potable                                                                                                                                        5149 non-null   float64 \n",
      " 5   Abastos, mercados, lonjas                                                                                                                                                          5149 non-null   float64 \n",
      " 6   Acceso a los núcleos de población                                                                                                                                                  5149 non-null   float64 \n",
      " 7   Actividades funerarias                                                                                                                                                             5149 non-null   float64 \n",
      " 8   Alcantarillado                                                                                                                                                                     5149 non-null   float64 \n",
      " 9   Alumbrado público                                                                                                                                                                  5149 non-null   float64 \n",
      " 10  Biblioteca pública                                                                                                                                                                 5149 non-null   float64 \n",
      " 11  Cementerio                                                                                                                                                                         5149 non-null   float64 \n",
      " 12  Comercio ambulante                                                                                                                                                                 5149 non-null   float64 \n",
      " 13  Conservación y rehabilitación de la edificación                                                                                                                                    5149 non-null   float64 \n",
      " 14  Conservación, mantenimiento y vigilancia de los edificios de titularidad local destinados a centros públicos de educación infantil, de educación primaria o de educación especial  5149 non-null   float64 \n",
      " 15  Cooperar con las Administraciones educativas correspondientes en la obtención de los solares necesarios para la construcción de nuevos centros docentes                            5149 non-null   float64 \n",
      " 16  Equipamientos culturales                                                                                                                                                           5149 non-null   float64 \n",
      " 17  Evacuación y tratamiento de aguas residuales                                                                                                                                       5149 non-null   float64 \n",
      " 18  Evaluación e información de situaciones de necesidad social y la atención inmediata a personas en situación o riesgo de exclusión social                                           5149 non-null   float64 \n",
      " 19  Ferias                                                                                                                                                                             5149 non-null   float64 \n",
      " 20  Información y promoción de la actividad turística de interés y ámbito local                                                                                                        5149 non-null   float64 \n",
      " 21  Infraestructura viaria y otros equipamientos de titularidad de la entidad local                                                                                                    5149 non-null   float64 \n",
      " 22  Instalaciones de ocupación del tiempo libre                                                                                                                                        5149 non-null   float64 \n",
      " 23  Instalaciones deportivas                                                                                                                                                           5149 non-null   float64 \n",
      " 24  Instalaciones deportivas de uso público                                                                                                                                            5149 non-null   float64 \n",
      " 25  Limpieza viaria                                                                                                                                                                    5149 non-null   float64 \n",
      " 26  Medio ambiente urbano                                                                                                                                                              5149 non-null   float64 \n",
      " 27  Medio ambiente urbano: Gestión de los residuos sólidos urbanos                                                                                                                     5149 non-null   float64 \n",
      " 28  Medio ambiente urbano: Parques y jardines públicos                                                                                                                                 5149 non-null   float64 \n",
      " 29  Medio ambiente urbano: Protección contra la contaminación acústica, lumínica y atmosférica en las zonas urbanas                                                                    5149 non-null   float64 \n",
      " 30  Parque público                                                                                                                                                                     5149 non-null   float64 \n",
      " 31  Participar en la vigilancia del cumplimiento de la escolaridad obligatoria                                                                                                         5149 non-null   float64 \n",
      " 32  Pavimentación de las vías públicas                                                                                                                                                 5149 non-null   float64 \n",
      " 33  Policía local                                                                                                                                                                      5149 non-null   float64 \n",
      " 34  Prevención y extinción de incendios                                                                                                                                                5149 non-null   float64 \n",
      " 35  Promoción de la cultura                                                                                                                                                            5149 non-null   float64 \n",
      " 36  Promoción del deporte                                                                                                                                                              5149 non-null   float64 \n",
      " 37  Promoción en su término municipal de la participación de los ciudadanos en el uso eficiente y sostenible de las tecnologías de la información y las comunicaciones                 5149 non-null   float64 \n",
      " 38  Promoción y gestión de la vivienda de protección pública con criterios de sostenibilidad financiera                                                                                5149 non-null   float64 \n",
      " 39  Protección civil                                                                                                                                                                   5149 non-null   float64 \n",
      " 40  Protección de la salubridad pública                                                                                                                                                5149 non-null   float64 \n",
      " 41  Protección y gestión del Patrimonio histórico                                                                                                                                      5149 non-null   float64 \n",
      " 42  Recogida de residuos                                                                                                                                                               5149 non-null   float64 \n",
      " 43  Transporte colectivo urbano de viajeros                                                                                                                                            5149 non-null   float64 \n",
      " 44  Tratamiento de residuos                                                                                                                                                            5149 non-null   float64 \n",
      " 45  Tráfico, estacionamiento de vehículos y movilidad                                                                                                                                  5149 non-null   float64 \n",
      " 46  Urbanismo: planeamiento, gestión, ejecución y disciplina urbanística                                                                                                               5149 non-null   float64 \n",
      " 47  codigoM                                                                                                                                                                            5149 non-null   object  \n",
      " 48  Población 2018                                                                                                                                                                     5149 non-null   object  \n",
      "dtypes: category(1), float64(43), object(5)\n",
      "memory usage: 2.1+ MB\n"
     ]
    }
   ],
   "source": [
    "\n",
    "df_final_pob.info()"
   ]
  },
  {
   "cell_type": "code",
   "execution_count": null,
   "metadata": {},
   "outputs": [],
   "source": []
  },
  {
   "cell_type": "code",
   "execution_count": null,
   "metadata": {},
   "outputs": [],
   "source": []
  },
  {
   "cell_type": "code",
   "execution_count": null,
   "metadata": {},
   "outputs": [],
   "source": []
  },
  {
   "cell_type": "code",
   "execution_count": null,
   "metadata": {},
   "outputs": [],
   "source": []
  },
  {
   "cell_type": "code",
   "execution_count": null,
   "metadata": {},
   "outputs": [],
   "source": []
  },
  {
   "cell_type": "code",
   "execution_count": null,
   "metadata": {},
   "outputs": [],
   "source": []
  },
  {
   "cell_type": "code",
   "execution_count": null,
   "metadata": {},
   "outputs": [],
   "source": []
  },
  {
   "cell_type": "code",
   "execution_count": null,
   "metadata": {},
   "outputs": [],
   "source": []
  },
  {
   "cell_type": "code",
   "execution_count": null,
   "metadata": {},
   "outputs": [],
   "source": []
  },
  {
   "cell_type": "code",
   "execution_count": 33,
   "metadata": {},
   "outputs": [],
   "source": [
    "lo=df_coste.groupby(by=['Descripción','Nombre Ente Principal'],as_index=False).sum()\n",
    "\n",
    "lo2=lo.loc[(lo['Descripción']=='Abastos, mercados, lonjas ')].sort_values(by='coste_efectivo',ascending=False)"
   ]
  },
  {
   "cell_type": "code",
   "execution_count": 34,
   "metadata": {},
   "outputs": [],
   "source": [
    "lo2.to_excel(f'/home/carpiero/IRONHACK/zOld/lo.xlsx', index=False)"
   ]
  },
  {
   "cell_type": "code",
   "execution_count": null,
   "metadata": {},
   "outputs": [],
   "source": [
    "df_indicadores.loc[(df_indicadores['Descripción']=='Actividades funerarias')&(df_indicadores['Código Ente Principal']=='17-46-904-AA-000')]"
   ]
  },
  {
   "cell_type": "code",
   "execution_count": null,
   "metadata": {},
   "outputs": [],
   "source": []
  },
  {
   "cell_type": "code",
   "execution_count": null,
   "metadata": {},
   "outputs": [],
   "source": []
  },
  {
   "cell_type": "code",
   "execution_count": null,
   "metadata": {},
   "outputs": [],
   "source": []
  },
  {
   "cell_type": "code",
   "execution_count": null,
   "metadata": {},
   "outputs": [],
   "source": []
  },
  {
   "cell_type": "code",
   "execution_count": null,
   "metadata": {},
   "outputs": [],
   "source": []
  },
  {
   "cell_type": "code",
   "execution_count": null,
   "metadata": {},
   "outputs": [],
   "source": []
  },
  {
   "cell_type": "code",
   "execution_count": null,
   "metadata": {},
   "outputs": [],
   "source": []
  },
  {
   "cell_type": "code",
   "execution_count": null,
   "metadata": {},
   "outputs": [],
   "source": []
  },
  {
   "cell_type": "code",
   "execution_count": null,
   "metadata": {},
   "outputs": [],
   "source": []
  },
  {
   "cell_type": "code",
   "execution_count": null,
   "metadata": {},
   "outputs": [],
   "source": []
  },
  {
   "cell_type": "code",
   "execution_count": null,
   "metadata": {},
   "outputs": [],
   "source": []
  },
  {
   "cell_type": "code",
   "execution_count": null,
   "metadata": {},
   "outputs": [],
   "source": []
  },
  {
   "cell_type": "code",
   "execution_count": null,
   "metadata": {},
   "outputs": [],
   "source": []
  },
  {
   "cell_type": "code",
   "execution_count": null,
   "metadata": {},
   "outputs": [],
   "source": []
  },
  {
   "cell_type": "code",
   "execution_count": null,
   "metadata": {},
   "outputs": [],
   "source": []
  },
  {
   "cell_type": "code",
   "execution_count": null,
   "metadata": {},
   "outputs": [],
   "source": []
  },
  {
   "cell_type": "code",
   "execution_count": null,
   "metadata": {},
   "outputs": [],
   "source": []
  }
 ],
 "metadata": {
  "kernelspec": {
   "display_name": "Python [conda env:ml_env]",
   "language": "python",
   "name": "conda-env-ml_env-py"
  },
  "language_info": {
   "codemirror_mode": {
    "name": "ipython",
    "version": 3
   },
   "file_extension": ".py",
   "mimetype": "text/x-python",
   "name": "python",
   "nbconvert_exporter": "python",
   "pygments_lexer": "ipython3",
   "version": "3.7.7"
  }
 },
 "nbformat": 4,
 "nbformat_minor": 4
}
