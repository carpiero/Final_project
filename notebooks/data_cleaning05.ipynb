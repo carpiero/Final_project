{
 "cells": [
  {
   "cell_type": "code",
   "execution_count": 1,
   "metadata": {},
   "outputs": [],
   "source": [
    "import pandas as pd\n",
    "\n",
    "df_final_api=pd.read_parquet(f'../data/processed/df_final_api.parquet')"
   ]
  },
  {
   "cell_type": "code",
   "execution_count": 2,
   "metadata": {},
   "outputs": [
    {
     "name": "stdout",
     "output_type": "stream",
     "text": [
      "<class 'pandas.core.frame.DataFrame'>\n",
      "Int64Index: 9649 entries, 0 to 9648\n",
      "Data columns (total 17 columns):\n",
      " #   Column               Non-Null Count  Dtype   \n",
      "---  ------               --------------  -----   \n",
      " 0   uuid                 9649 non-null   object  \n",
      " 1   age                  9649 non-null   int64   \n",
      " 2   gender               9649 non-null   category\n",
      " 3   dem_has_children     9649 non-null   category\n",
      " 4   age_group            9649 non-null   category\n",
      " 5   country_code         9649 non-null   category\n",
      " 6   rural                9649 non-null   category\n",
      " 7   dem_education_level  8986 non-null   object  \n",
      " 8   dem_full_time_job    9649 non-null   category\n",
      " 9   normalized_job_code  5702 non-null   object  \n",
      " 10  awareness            9649 non-null   category\n",
      " 11  vote                 9649 non-null   category\n",
      " 12  effect               9649 non-null   category\n",
      " 13  argumentsfor         9649 non-null   object  \n",
      " 14  argumentsagainst     9649 non-null   object  \n",
      " 15  Country              9649 non-null   object  \n",
      " 16  Job Title            9649 non-null   object  \n",
      "dtypes: category(9), int64(1), object(7)\n",
      "memory usage: 6.4 MB\n",
      "None\n"
     ]
    }
   ],
   "source": [
    "print(df_final_api.info(memory_usage='deep'))"
   ]
  },
  {
   "cell_type": "code",
   "execution_count": 3,
   "metadata": {},
   "outputs": [
    {
     "data": {
      "text/plain": [
       "Unemployed or Part time Job or Inactive                    407\n",
       "Automatic Data Processing Planner                            7\n",
       "Data Scientist                                               7\n",
       "Database Manager                                             6\n",
       "Database Development and Administration Project Manager      6\n",
       "                                                          ... \n",
       "Data Processing Mechanic                                     1\n",
       "Clinical Data Manager                                        1\n",
       "Survey Data Technician                                       1\n",
       "Data Typist                                                  1\n",
       "Data Reviewer                                                1\n",
       "Name: Job Title, Length: 99, dtype: int64"
      ]
     },
     "execution_count": 3,
     "metadata": {},
     "output_type": "execute_result"
    }
   ],
   "source": [
    "df_final_api.loc[df_final_api['dem_education_level'].isnull(),'Job Title'].value_counts()"
   ]
  },
  {
   "cell_type": "code",
   "execution_count": 4,
   "metadata": {},
   "outputs": [
    {
     "data": {
      "text/plain": [
       "663"
      ]
     },
     "execution_count": 4,
     "metadata": {},
     "output_type": "execute_result"
    }
   ],
   "source": [
    "df_final_api['dem_education_level'].isnull().sum()"
   ]
  },
  {
   "cell_type": "code",
   "execution_count": 5,
   "metadata": {},
   "outputs": [
    {
     "data": {
      "text/plain": [
       "medium    3578\n",
       "high      3270\n",
       "low       1815\n",
       "no         323\n",
       "Name: dem_education_level, dtype: int64"
      ]
     },
     "execution_count": 5,
     "metadata": {},
     "output_type": "execute_result"
    }
   ],
   "source": [
    "df_final_api['dem_education_level'].value_counts()"
   ]
  },
  {
   "cell_type": "code",
   "execution_count": 6,
   "metadata": {},
   "outputs": [],
   "source": [
    "#selec_columns=df_final_api.columns.tolist()\n",
    "#df_final_api.drop_duplicates(subset=selec_columns, keep='first')"
   ]
  },
  {
   "cell_type": "code",
   "execution_count": 11,
   "metadata": {},
   "outputs": [
    {
     "name": "stdout",
     "output_type": "stream",
     "text": [
      "yes    0\n",
      "no     0\n",
      "Name: dem_full_time_job, dtype: int64\n"
     ]
    }
   ],
   "source": [
    "print(df_final_api.loc[df_final_api['Job Title'].isnull(),'dem_full_time_job'].value_counts())\n"
   ]
  },
  {
   "cell_type": "code",
   "execution_count": 12,
   "metadata": {},
   "outputs": [
    {
     "data": {
      "text/plain": [
       "0"
      ]
     },
     "execution_count": 12,
     "metadata": {},
     "output_type": "execute_result"
    }
   ],
   "source": [
    "df_final_api['Job Title'].isnull().sum()"
   ]
  },
  {
   "cell_type": "code",
   "execution_count": 13,
   "metadata": {},
   "outputs": [
    {
     "name": "stdout",
     "output_type": "stream",
     "text": [
      "Series([], Name: Country, dtype: int64)\n"
     ]
    }
   ],
   "source": [
    "print(df_final_api.loc[df_final_api['Job Title'].isnull(),'Country'].value_counts())"
   ]
  },
  {
   "cell_type": "code",
   "execution_count": 14,
   "metadata": {},
   "outputs": [],
   "source": [
    "df_final_api.to_parquet('../data/processed/df_final_nulls.parquet')"
   ]
  },
  {
   "cell_type": "code",
   "execution_count": null,
   "metadata": {},
   "outputs": [],
   "source": []
  }
 ],
 "metadata": {
  "kernelspec": {
   "display_name": "Python [conda env:iron]",
   "language": "python",
   "name": "conda-env-iron-py"
  },
  "language_info": {
   "codemirror_mode": {
    "name": "ipython",
    "version": 3
   },
   "file_extension": ".py",
   "mimetype": "text/x-python",
   "name": "python",
   "nbconvert_exporter": "python",
   "pygments_lexer": "ipython3",
   "version": "3.7.7"
  }
 },
 "nbformat": 4,
 "nbformat_minor": 4
}
